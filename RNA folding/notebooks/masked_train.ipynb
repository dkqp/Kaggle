{
 "cells": [
  {
   "cell_type": "markdown",
   "metadata": {},
   "source": [
    "# RNA Masked Training\n",
    "https://www.kaggle.com/competitions/stanford-ribonanza-rna-folding/overview"
   ]
  },
  {
   "cell_type": "code",
   "execution_count": null,
   "metadata": {},
   "outputs": [],
   "source": [
    "TRAIN_DATA_EXT_PATH = '../data/small_sets/train_extracted.csv'"
   ]
  },
  {
   "cell_type": "code",
   "execution_count": null,
   "metadata": {},
   "outputs": [],
   "source": [
    "import pandas as pd\n",
    "\n",
    "train_extracted_pd = pd.read_csv(TRAIN_DATA_EXT_PATH)\n",
    "train_extracted_pd.head()"
   ]
  },
  {
   "cell_type": "code",
   "execution_count": null,
   "metadata": {},
   "outputs": [],
   "source": [
    "len(train_extracted_pd)"
   ]
  },
  {
   "cell_type": "code",
   "execution_count": null,
   "metadata": {},
   "outputs": [],
   "source": [
    "import sys\n",
    "sys.path.append('..')\n",
    "\n",
    "from python_scripts.transformers.dataset import MaskedDataset\n",
    "\n",
    "masked_dataset = MaskedDataset(\n",
    "    data=train_extracted_pd[:1000],\n",
    "    vocab=pd.read_csv('../data/vocab.csv'),\n",
    "    max_len=512\n",
    ")"
   ]
  },
  {
   "cell_type": "code",
   "execution_count": null,
   "metadata": {},
   "outputs": [],
   "source": [
    "len(masked_dataset)"
   ]
  },
  {
   "cell_type": "code",
   "execution_count": null,
   "metadata": {},
   "outputs": [],
   "source": [
    "from torchinfo import summary\n",
    "\n",
    "import sys\n",
    "sys.path.append('..')\n",
    "\n",
    "from python_scripts.transformers.model import BERTCustomMasked, BERTCustom\n",
    "from torch.utils.data import DataLoader\n",
    "\n",
    "bertmodel = BERTCustom(\n",
    "    vocab_size=len(masked_dataset.vocab),\n",
    "    hidden=32,\n",
    "    dim_k=4,\n",
    ")\n",
    "masked_model = BERTCustomMasked(bertmodel)\n",
    "\n",
    "summary(masked_model)"
   ]
  },
  {
   "cell_type": "code",
   "execution_count": null,
   "metadata": {},
   "outputs": [],
   "source": [
    "masked_model(next(iter(DataLoader(masked_dataset, 3)))).shape"
   ]
  },
  {
   "cell_type": "code",
   "execution_count": null,
   "metadata": {},
   "outputs": [],
   "source": [
    "import torch\n",
    "from torchmetrics import Accuracy\n",
    "import lightning.pytorch as pl\n",
    "from lightning.pytorch.callbacks import ModelCheckpoint, EarlyStopping\n",
    "\n",
    "import sys\n",
    "sys.path.append('..')\n",
    "\n",
    "from python_scripts.transformers.dataset import MaskedDataModule\n",
    "from python_scripts.transformers.task import MaskingTask\n",
    "\n",
    "masked_datamodule = MaskedDataModule(whole_dataset=masked_dataset, batch_size=8)\n",
    "\n",
    "masked_optimizer = torch.optim.Adam(masked_model.parameters(), 1e-3)\n",
    "masked_scheduler = torch.optim.lr_scheduler.CosineAnnealingLR(\n",
    "    optimizer=masked_optimizer,\n",
    "    T_max=5,\n",
    "    eta_min=1e-4,\n",
    "    verbose=True,\n",
    ")\n",
    "# rna_scheduler = torch.optim.lr_scheduler.MultiStepLR(\n",
    "#     optimizer=masked_optimizer,\n",
    "#     [4, 7, 10, 13, 16, 19],\n",
    "#     verbose=True,\n",
    "#     gamma=0.3\n",
    "# )\n",
    "# rna_scheduler = torch.optim.lr_scheduler.CyclicLR(\n",
    "#     optimizer=masked_optimizer,\n",
    "#     base_lr=1e-6,\n",
    "#     max_lr=1e-3,\n",
    "#     step_size_up=3000,\n",
    "#     step_size_down=7000,\n",
    "#     verbose=True\n",
    "# )\n",
    "# rna_scheduler = torch.optim.lr_scheduler.OneCycleLR(\n",
    "#     optimizer=masked_optimizer,\n",
    "#     max_lr=1e-3,\n",
    "#     steps_per_epoch=100,\n",
    "#     epochs=5,\n",
    "#     div_factor=1e2,\n",
    "#     verbose=False\n",
    "# )\n",
    "\n",
    "maskingtask = MaskingTask(\n",
    "    model=masked_model,\n",
    "    loss_fn=torch.nn.CrossEntropyLoss(),\n",
    "    optimizer=masked_optimizer,\n",
    "    scheduler=masked_scheduler,\n",
    "    acc_fn=Accuracy(task='multiclass', num_classes=len(masked_dataset.vocab), ignore_index=-100)\n",
    ")\n",
    "\n",
    "callbacks = []\n",
    "callbacks.append(ModelCheckpoint(\n",
    "    monitor='val_avg_accuracy',\n",
    "    save_top_k=3,\n",
    "    mode='max'\n",
    "))\n",
    "# callbacks.append(EarlyStopping(\n",
    "#     monitor='val_avg_accuracy',\n",
    "#     min_delta=0.1,\n",
    "#     patience=3,\n",
    "#     verbose=True,\n",
    "#     mode='max'\n",
    "# ))\n",
    "\n",
    "trainer = pl.Trainer(\n",
    "    max_epochs=5,\n",
    "    callbacks=callbacks\n",
    ")\n",
    "\n",
    "# maskingtask = MaskingTask.load_from_checkpoint(\n",
    "#     './lightning_logs/version_0/checkpoints/epoch=0-step=33562.ckpt',\n",
    "#     model=masked_model,\n",
    "#     loss_fn=torch.nn.CrossEntropyLoss(),\n",
    "#     optimizer=masked_optimizer,\n",
    "#     scheduler=masked_scheduler,\n",
    "#     acc_fn=Accuracy(task='multiclass', num_classes=len(masked_dataset.vocab), ignore_index=-100)\n",
    "# )\n",
    "\n",
    "# trainer.fit(maskingtask, ckpt_path=\"some/path/to/my_checkpoint.ckpt\")# trainer = pl.Trainer(resume_from_checkpoint='../notebooks/lightning_logs/version_0/checkpoints/epoch=0-step=100.ckpt')\n",
    "\n",
    "trainer.fit(maskingtask, datamodule=masked_datamodule)\n",
    "trainer.test(maskingtask, datamodule=masked_datamodule)"
   ]
  }
 ],
 "metadata": {
  "language_info": {
   "name": "python"
  }
 },
 "nbformat": 4,
 "nbformat_minor": 2
}
