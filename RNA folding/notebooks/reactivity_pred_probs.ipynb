{
 "cells": [
  {
   "cell_type": "markdown",
   "metadata": {},
   "source": [
    "# RNA Reactivity Prediction\n",
    "https://www.kaggle.com/competitions/stanford-ribonanza-rna-folding/overview"
   ]
  },
  {
   "cell_type": "code",
   "execution_count": 1,
   "metadata": {},
   "outputs": [],
   "source": [
    "TEST_DATA_PATH = 'E:/data/Ribonanza_RNA_folding/test_sequences.csv'\n",
    "TEST_DATA_EXT_PATH = 'E:/data/Ribonanza_RNA_folding/test_extracted.csv'\n",
    "BPP_DATA_PATH = 'E:/data/Ribonanza_RNA_folding/Ribonanza_bpp_files/extra_data'\n",
    "SUBMISSION_SAMPLE_FILE_PATH = 'E:/data/Ribonanza_RNA_folding/sample_submission.csv'\n",
    "SUBMISSION_FILE_PATH = 'E:/data/Ribonanza_RNA_folding/submission.csv'\n",
    "VOCAB_PATH = 'E:/data/Ribonanza_RNA_folding/vocab.csv'\n",
    "DATA_PATH = 'E:/data/Ribonanza_RNA_folding'"
   ]
  },
  {
   "cell_type": "code",
   "execution_count": 2,
   "metadata": {},
   "outputs": [
    {
     "data": {
      "text/html": [
       "<div>\n",
       "<style scoped>\n",
       "    .dataframe tbody tr th:only-of-type {\n",
       "        vertical-align: middle;\n",
       "    }\n",
       "\n",
       "    .dataframe tbody tr th {\n",
       "        vertical-align: top;\n",
       "    }\n",
       "\n",
       "    .dataframe thead th {\n",
       "        text-align: right;\n",
       "    }\n",
       "</style>\n",
       "<table border=\"1\" class=\"dataframe\">\n",
       "  <thead>\n",
       "    <tr style=\"text-align: right;\">\n",
       "      <th></th>\n",
       "      <th>id_min</th>\n",
       "      <th>id_max</th>\n",
       "      <th>sequence_id</th>\n",
       "      <th>sequence</th>\n",
       "      <th>future</th>\n",
       "    </tr>\n",
       "  </thead>\n",
       "  <tbody>\n",
       "    <tr>\n",
       "      <th>0</th>\n",
       "      <td>0</td>\n",
       "      <td>176</td>\n",
       "      <td>eee73c1836bc</td>\n",
       "      <td>GGGAACGACUCGAGUAGAGUCGAAAAUUUCCUUCCAAAUCCUGAGG...</td>\n",
       "      <td>0</td>\n",
       "    </tr>\n",
       "    <tr>\n",
       "      <th>1</th>\n",
       "      <td>177</td>\n",
       "      <td>353</td>\n",
       "      <td>d2a929af7a97</td>\n",
       "      <td>GGGAACGACUCGAGUAGAGUCGAAAAUGUAAUCAGAUUGCUUCUCC...</td>\n",
       "      <td>0</td>\n",
       "    </tr>\n",
       "    <tr>\n",
       "      <th>2</th>\n",
       "      <td>354</td>\n",
       "      <td>530</td>\n",
       "      <td>d39a4425ff45</td>\n",
       "      <td>GGGAACGACUCGAGUAGAGUCGAAAAAACACAUGAAUUUGAGGGUU...</td>\n",
       "      <td>0</td>\n",
       "    </tr>\n",
       "    <tr>\n",
       "      <th>3</th>\n",
       "      <td>531</td>\n",
       "      <td>707</td>\n",
       "      <td>1fc41e92d553</td>\n",
       "      <td>GGGAACGACUCGAGUAGAGUCGAAAAUCAGAGCUGGCAAAUGGAUG...</td>\n",
       "      <td>0</td>\n",
       "    </tr>\n",
       "    <tr>\n",
       "      <th>4</th>\n",
       "      <td>708</td>\n",
       "      <td>884</td>\n",
       "      <td>1d0826fb892f</td>\n",
       "      <td>GGGAACGACUCGAGUAGAGUCGAAAAUUUGGUAUUUGAUGCAUUAA...</td>\n",
       "      <td>0</td>\n",
       "    </tr>\n",
       "  </tbody>\n",
       "</table>\n",
       "</div>"
      ],
      "text/plain": [
       "   id_min  id_max   sequence_id  \\\n",
       "0       0     176  eee73c1836bc   \n",
       "1     177     353  d2a929af7a97   \n",
       "2     354     530  d39a4425ff45   \n",
       "3     531     707  1fc41e92d553   \n",
       "4     708     884  1d0826fb892f   \n",
       "\n",
       "                                            sequence  future  \n",
       "0  GGGAACGACUCGAGUAGAGUCGAAAAUUUCCUUCCAAAUCCUGAGG...       0  \n",
       "1  GGGAACGACUCGAGUAGAGUCGAAAAUGUAAUCAGAUUGCUUCUCC...       0  \n",
       "2  GGGAACGACUCGAGUAGAGUCGAAAAAACACAUGAAUUUGAGGGUU...       0  \n",
       "3  GGGAACGACUCGAGUAGAGUCGAAAAUCAGAGCUGGCAAAUGGAUG...       0  \n",
       "4  GGGAACGACUCGAGUAGAGUCGAAAAUUUGGUAUUUGAUGCAUUAA...       0  "
      ]
     },
     "execution_count": 2,
     "metadata": {},
     "output_type": "execute_result"
    }
   ],
   "source": [
    "import pandas as pd\n",
    "\n",
    "test_data_pd = pd.read_csv(TEST_DATA_PATH)\n",
    "test_data_pd.head()"
   ]
  },
  {
   "cell_type": "code",
   "execution_count": 3,
   "metadata": {},
   "outputs": [
    {
     "data": {
      "text/html": [
       "<div>\n",
       "<style scoped>\n",
       "    .dataframe tbody tr th:only-of-type {\n",
       "        vertical-align: middle;\n",
       "    }\n",
       "\n",
       "    .dataframe tbody tr th {\n",
       "        vertical-align: top;\n",
       "    }\n",
       "\n",
       "    .dataframe thead th {\n",
       "        text-align: right;\n",
       "    }\n",
       "</style>\n",
       "<table border=\"1\" class=\"dataframe\">\n",
       "  <thead>\n",
       "    <tr style=\"text-align: right;\">\n",
       "      <th></th>\n",
       "      <th>sequence</th>\n",
       "      <th>sequence_ext</th>\n",
       "    </tr>\n",
       "  </thead>\n",
       "  <tbody>\n",
       "    <tr>\n",
       "      <th>0</th>\n",
       "      <td>GGGAACGACUCGAGUAGAGUCGAAAAUUUCCUUCCAAAUCCUGAGG...</td>\n",
       "      <td>(((((((((((.....)))))).....)))))......(((((((....</td>\n",
       "    </tr>\n",
       "    <tr>\n",
       "      <th>1</th>\n",
       "      <td>GGGAACGACUCGAGUAGAGUCGAAAAUGUAAUCAGAUUGCUUCUCC...</td>\n",
       "      <td>.....((((((.....))))))................((..((((...</td>\n",
       "    </tr>\n",
       "    <tr>\n",
       "      <th>2</th>\n",
       "      <td>GGGAACGACUCGAGUAGAGUCGAAAAAACACAUGAAUUUGAGGGUU...</td>\n",
       "      <td>.....((((((.....))))))...............((((((.(....</td>\n",
       "    </tr>\n",
       "    <tr>\n",
       "      <th>3</th>\n",
       "      <td>GGGAACGACUCGAGUAGAGUCGAAAAUCAGAGCUGGCAAAUGGAUG...</td>\n",
       "      <td>.....((((((.....))))))....((.(((..((((((.((.((...</td>\n",
       "    </tr>\n",
       "    <tr>\n",
       "      <th>4</th>\n",
       "      <td>GGGAACGACUCGAGUAGAGUCGAAAAUUUGGUAUUUGAUGCAUUAA...</td>\n",
       "      <td>.....((((((.....)))))).................((........</td>\n",
       "    </tr>\n",
       "  </tbody>\n",
       "</table>\n",
       "</div>"
      ],
      "text/plain": [
       "                                            sequence  \\\n",
       "0  GGGAACGACUCGAGUAGAGUCGAAAAUUUCCUUCCAAAUCCUGAGG...   \n",
       "1  GGGAACGACUCGAGUAGAGUCGAAAAUGUAAUCAGAUUGCUUCUCC...   \n",
       "2  GGGAACGACUCGAGUAGAGUCGAAAAAACACAUGAAUUUGAGGGUU...   \n",
       "3  GGGAACGACUCGAGUAGAGUCGAAAAUCAGAGCUGGCAAAUGGAUG...   \n",
       "4  GGGAACGACUCGAGUAGAGUCGAAAAUUUGGUAUUUGAUGCAUUAA...   \n",
       "\n",
       "                                        sequence_ext  \n",
       "0  (((((((((((.....)))))).....)))))......(((((((....  \n",
       "1  .....((((((.....))))))................((..((((...  \n",
       "2  .....((((((.....))))))...............((((((.(....  \n",
       "3  .....((((((.....))))))....((.(((..((((((.((.((...  \n",
       "4  .....((((((.....)))))).................((........  "
      ]
     },
     "execution_count": 3,
     "metadata": {},
     "output_type": "execute_result"
    }
   ],
   "source": [
    "import pandas as pd\n",
    "\n",
    "test_extracted_pd = pd.read_csv(TEST_DATA_EXT_PATH)\n",
    "test_extracted_pd.head()"
   ]
  },
  {
   "cell_type": "code",
   "execution_count": 4,
   "metadata": {},
   "outputs": [
    {
     "data": {
      "text/plain": [
       "(1343823, 1343823)"
      ]
     },
     "execution_count": 4,
     "metadata": {},
     "output_type": "execute_result"
    }
   ],
   "source": [
    "len(test_data_pd), len(test_extracted_pd)"
   ]
  },
  {
   "cell_type": "code",
   "execution_count": 5,
   "metadata": {},
   "outputs": [
    {
     "name": "stderr",
     "output_type": "stream",
     "text": [
      "0it [00:00, ?it/s]"
     ]
    },
    {
     "name": "stderr",
     "output_type": "stream",
     "text": [
      "4369it [00:12, 352.78it/s]\n"
     ]
    }
   ],
   "source": [
    "from tqdm import tqdm\n",
    "import os\n",
    "\n",
    "root_dir = BPP_DATA_PATH\n",
    "prob_file_paths = []\n",
    "for forder, _, files in tqdm(os.walk(root_dir)):\n",
    "    for file in files:\n",
    "        prob_file_paths.append(os.path.join(forder, file))"
   ]
  },
  {
   "cell_type": "code",
   "execution_count": 6,
   "metadata": {},
   "outputs": [
    {
     "name": "stderr",
     "output_type": "stream",
     "text": [
      "100%|██████████| 2150396/2150396 [00:16<00:00, 132227.85it/s]\n"
     ]
    },
    {
     "data": {
      "text/plain": [
       "1381500"
      ]
     },
     "execution_count": 6,
     "metadata": {},
     "output_type": "execute_result"
    }
   ],
   "source": [
    "unique_sequence_ids = set(test_data_pd['sequence_id'])\n",
    "\n",
    "path_probs_dict = {}\n",
    "count = 0\n",
    "\n",
    "for i in tqdm(range(len(prob_file_paths))):\n",
    "    file_name = os.path.splitext(os.path.basename(prob_file_paths[i]))[0]\n",
    "    if file_name in unique_sequence_ids:\n",
    "        path_probs_dict[file_name] = prob_file_paths[i]\n",
    "        count += 1\n",
    "\n",
    "count"
   ]
  },
  {
   "cell_type": "code",
   "execution_count": 7,
   "metadata": {},
   "outputs": [],
   "source": [
    "import sys\n",
    "sys.path.append('..')\n",
    "\n",
    "from python_scripts.transformers.dataset import RNADataset_probs_pred\n",
    "\n",
    "rna_extracted_dataset = RNADataset_probs_pred(\n",
    "    data=test_data_pd,\n",
    "    data_ext=test_extracted_pd,\n",
    "    path_probs=path_probs_dict,\n",
    "    vocab=pd.read_csv(VOCAB_PATH),\n",
    "    max_len=512\n",
    ")"
   ]
  },
  {
   "cell_type": "code",
   "execution_count": 8,
   "metadata": {},
   "outputs": [
    {
     "data": {
      "text/plain": [
       "1343823"
      ]
     },
     "execution_count": 8,
     "metadata": {},
     "output_type": "execute_result"
    }
   ],
   "source": [
    "len(rna_extracted_dataset)"
   ]
  },
  {
   "cell_type": "code",
   "execution_count": 9,
   "metadata": {},
   "outputs": [
    {
     "data": {
      "text/plain": [
       "torch.Size([512])"
      ]
     },
     "execution_count": 9,
     "metadata": {},
     "output_type": "execute_result"
    }
   ],
   "source": [
    "rna_extracted_dataset[0][0].shape"
   ]
  },
  {
   "cell_type": "code",
   "execution_count": 10,
   "metadata": {},
   "outputs": [
    {
     "data": {
      "text/plain": [
       "===========================================================================\n",
       "Layer (type:depth-idx)                             Param #\n",
       "===========================================================================\n",
       "BERTCustomRNAReactivity                            --\n",
       "├─BERTCustom: 1-1                                  --\n",
       "│    └─CombEmbedding: 2-1                          --\n",
       "│    │    └─TokenEmbedding: 3-1                    11,776\n",
       "│    │    └─PositionEmbedding: 3-2                 --\n",
       "│    │    └─Dropout: 3-3                           --\n",
       "│    └─ModuleList: 2-2                             --\n",
       "│    │    └─EncoderBlock: 3-4                      3,152,385\n",
       "│    │    └─EncoderBlock: 3-5                      3,152,385\n",
       "│    │    └─EncoderBlock: 3-6                      3,152,385\n",
       "│    │    └─EncoderBlock: 3-7                      3,152,385\n",
       "│    │    └─EncoderBlock: 3-8                      3,152,385\n",
       "│    │    └─EncoderBlock: 3-9                      3,152,385\n",
       "│    │    └─EncoderBlock: 3-10                     3,152,385\n",
       "│    │    └─EncoderBlock: 3-11                     3,152,385\n",
       "│    │    └─EncoderBlock: 3-12                     3,152,385\n",
       "│    │    └─EncoderBlock: 3-13                     3,152,385\n",
       "│    │    └─EncoderBlock: 3-14                     3,152,385\n",
       "│    │    └─EncoderBlock: 3-15                     3,152,385\n",
       "├─Linear: 1-2                                      4,104\n",
       "===========================================================================\n",
       "Total params: 37,844,500\n",
       "Trainable params: 37,844,500\n",
       "Non-trainable params: 0\n",
       "==========================================================================="
      ]
     },
     "execution_count": 10,
     "metadata": {},
     "output_type": "execute_result"
    }
   ],
   "source": [
    "from torchinfo import summary\n",
    "\n",
    "import sys\n",
    "sys.path.append('..')\n",
    "\n",
    "from python_scripts.transformers.model import BERTCustomRNAReactivity, BERTCustom\n",
    "\n",
    "bertmodel = BERTCustom(\n",
    "    vocab_size=len(rna_extracted_dataset.vocab),\n",
    "    hidden=512,\n",
    "    dim_k=64,\n",
    "    num_layer=12,\n",
    "    num_attn_head=8\n",
    ")\n",
    "RNA_model = BERTCustomRNAReactivity(bertmodel)\n",
    "\n",
    "summary(RNA_model)"
   ]
  },
  {
   "cell_type": "code",
   "execution_count": 11,
   "metadata": {},
   "outputs": [
    {
     "name": "stderr",
     "output_type": "stream",
     "text": [
      "Using 16bit Automatic Mixed Precision (AMP)\n",
      "GPU available: True (cuda), used: True\n",
      "TPU available: False, using: 0 TPU cores\n",
      "IPU available: False, using: 0 IPUs\n",
      "HPU available: False, using: 0 HPUs\n",
      "c:\\Users\\TimJimTangtong\\Miniconda3\\envs\\lightning\\lib\\site-packages\\lightning\\pytorch\\trainer\\connectors\\logger_connector\\logger_connector.py:67: Starting from v1.9.0, `tensorboardX` has been removed as a dependency of the `lightning.pytorch` package, due to potential conflicts with other packages in the ML ecosystem. For this reason, `logger=True` will use `CSVLogger` as the default logger, unless the `tensorboard` or `tensorboardX` packages are found. Please `pip install lightning[extra]` or one of them to enable TensorBoard support by default\n",
      "LOCAL_RANK: 0 - CUDA_VISIBLE_DEVICES: [0]\n",
      "c:\\Users\\TimJimTangtong\\Miniconda3\\envs\\lightning\\lib\\site-packages\\lightning\\pytorch\\trainer\\connectors\\data_connector.py:441: The 'predict_dataloader' does not have many workers which may be a bottleneck. Consider increasing the value of the `num_workers` argument` to `num_workers=7` in the `DataLoader` to improve performance.\n"
     ]
    },
    {
     "name": "stdout",
     "output_type": "stream",
     "text": [
      "Predicting DataLoader 0:   0%|          | 0/167978 [00:00<?, ?it/s]"
     ]
    },
    {
     "name": "stderr",
     "output_type": "stream",
     "text": [
      "c:\\Users\\TimJimTangtong\\Miniconda3\\envs\\lightning\\lib\\site-packages\\lightning\\pytorch\\trainer\\connectors\\data_connector.py:385: You have overridden `on_before_batch_transfer` in `LightningModule` but have passed in a `LightningDataModule`. It will use the implementation from `LightningModule` instance.\n"
     ]
    },
    {
     "name": "stdout",
     "output_type": "stream",
     "text": [
      "Predicting DataLoader 0: 100%|██████████| 167978/167978 [24:25:20<00:00,  1.91it/s]  \n"
     ]
    }
   ],
   "source": [
    "import torch\n",
    "\n",
    "import lightning.pytorch as pl\n",
    "\n",
    "import numpy as np\n",
    "\n",
    "import sys\n",
    "sys.path.append('..')\n",
    "\n",
    "from python_scripts.transformers.dataset import RNADataModule\n",
    "from python_scripts.transformers.task import RNATask\n",
    "\n",
    "rna_datamodule = RNADataModule(predict_dataset=rna_extracted_dataset, batch_size=8, probs_adjusted=True)\n",
    "\n",
    "# def rna_mae_loss(x: torch.tensor, y: torch.tensor, ignore_index=-100):\n",
    "#     not_ignore = y != ignore_index\n",
    "#     return torch.abs(x[not_ignore] - y[not_ignore]).mean()\n",
    "\n",
    "# rna_optimizer = torch.optim.SGD(RNA_model.parameters(), 1e-3, 0.9)\n",
    "# rna_scheduler = torch.optim.lr_scheduler.OneCycleLR(\n",
    "#     optimizer=rna_optimizer,\n",
    "#     max_lr=1e-3,\n",
    "#     steps_per_epoch=100,\n",
    "#     epochs=5,\n",
    "#     div_factor=1e2,\n",
    "#     verbose=False\n",
    "# )\n",
    "\n",
    "rna_task = RNATask.load_from_checkpoint(\n",
    "    checkpoint_path='./lightning_logs/BPP_8dim_231202/checkpoints/epoch=28-step=243339.ckpt',\n",
    "    model=RNA_model,\n",
    "    # loss_fn=rna_mae_loss,\n",
    "    # optimizer=rna_optimizer,\n",
    "    # scheduler=rna_scheduler,\n",
    ")\n",
    "\n",
    "trainer = pl.Trainer(precision='16-mixed')\n",
    "\n",
    "predictions = trainer.predict(rna_task, datamodule=rna_datamodule)\n",
    "\n",
    "predictions = np.concatenate(predictions, axis=1).clip(0, 1)"
   ]
  },
  {
   "cell_type": "code",
   "execution_count": 12,
   "metadata": {},
   "outputs": [],
   "source": [
    "submission = pd.read_csv(SUBMISSION_SAMPLE_FILE_PATH)\n",
    "submission['reactivity_2A3_MaP'] = predictions[0]\n",
    "submission['reactivity_DMS_MaP'] = predictions[1]\n",
    "submission.to_csv(SUBMISSION_FILE_PATH, index=False)"
   ]
  },
  {
   "cell_type": "code",
   "execution_count": null,
   "metadata": {},
   "outputs": [],
   "source": [
    "# Check length generalization\n",
    "\n",
    "import polars as pl\n",
    "import matplotlib.pyplot as plt\n",
    "\n",
    "df=pl.read_csv(SUBMISSION_FILE_PATH)\n",
    "#some parameters\n",
    "font_size=6\n",
    "id1=269545321\n",
    "id2=269724007\n",
    "reshape1=391\n",
    "reshape2=457\n",
    "#get predictions\n",
    "pred_DMS=df[id1:id2+1]['reactivity_DMS_MaP'].to_numpy().reshape(reshape1,reshape2)\n",
    "pred_2A3=df[id1:id2+1]['reactivity_2A3_MaP'].to_numpy().reshape(reshape1,reshape2)\n",
    "#plot mutate and map\n",
    "fig = plt.figure()\n",
    "plt.subplot(121)\n",
    "plt.title(f'reactivity_DMS_MaP', fontsize=font_size)\n",
    "plt.imshow(pred_DMS,vmin=0,vmax=1, cmap='gray_r')\n",
    "plt.subplot(122)\n",
    "plt.title(f'reactivity_2A3_MaP', fontsize=font_size)\n",
    "plt.imshow(pred_2A3,vmin=0,vmax=1, cmap='gray_r')\n",
    "plt.tight_layout()\n",
    "plt.savefig(f\"{DATA_PATH}/plot.png\",dpi=500)\n",
    "plt.clf()\n",
    "plt.close()\n"
   ]
  },
  {
   "cell_type": "code",
   "execution_count": null,
   "metadata": {},
   "outputs": [],
   "source": []
  }
 ],
 "metadata": {
  "kernelspec": {
   "display_name": "autotrading",
   "language": "python",
   "name": "python3"
  },
  "language_info": {
   "codemirror_mode": {
    "name": "ipython",
    "version": 3
   },
   "file_extension": ".py",
   "mimetype": "text/x-python",
   "name": "python",
   "nbconvert_exporter": "python",
   "pygments_lexer": "ipython3",
   "version": "3.10.13"
  }
 },
 "nbformat": 4,
 "nbformat_minor": 2
}
