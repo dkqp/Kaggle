{
 "cells": [
  {
   "cell_type": "markdown",
   "metadata": {},
   "source": [
    "# RNA Reactivity Prediction\n",
    "https://www.kaggle.com/competitions/stanford-ribonanza-rna-folding/overview"
   ]
  },
  {
   "cell_type": "code",
   "execution_count": 1,
   "metadata": {},
   "outputs": [],
   "source": [
    "TEST_DATA_PATH = '../data/small_sets/test_sequences.csv'\n",
    "TEST_DATA_EXT_PATH = '../data/small_sets/test_extracted.csv'\n",
    "SUBMISSION_SAMPLE_FILE_PATH = '../data/sample_submission.csv'\n",
    "SUBMISSION_FILE_PATH = '../data/submission.csv'"
   ]
  },
  {
   "cell_type": "code",
   "execution_count": 2,
   "metadata": {},
   "outputs": [
    {
     "data": {
      "text/html": [
       "<div>\n",
       "<style scoped>\n",
       "    .dataframe tbody tr th:only-of-type {\n",
       "        vertical-align: middle;\n",
       "    }\n",
       "\n",
       "    .dataframe tbody tr th {\n",
       "        vertical-align: top;\n",
       "    }\n",
       "\n",
       "    .dataframe thead th {\n",
       "        text-align: right;\n",
       "    }\n",
       "</style>\n",
       "<table border=\"1\" class=\"dataframe\">\n",
       "  <thead>\n",
       "    <tr style=\"text-align: right;\">\n",
       "      <th></th>\n",
       "      <th>sequence</th>\n",
       "      <th>sequence_ext</th>\n",
       "    </tr>\n",
       "  </thead>\n",
       "  <tbody>\n",
       "    <tr>\n",
       "      <th>0</th>\n",
       "      <td>GGGAACGACUCGAGUAGAGUCGAAAAUUUCCUUCCAAAUCCUGAGG...</td>\n",
       "      <td>(((((((((((.....)))))).....)))))......(((((((....</td>\n",
       "    </tr>\n",
       "    <tr>\n",
       "      <th>1</th>\n",
       "      <td>GGGAACGACUCGAGUAGAGUCGAAAAUGUAAUCAGAUUGCUUCUCC...</td>\n",
       "      <td>.....((((((.....))))))................((..((((...</td>\n",
       "    </tr>\n",
       "    <tr>\n",
       "      <th>2</th>\n",
       "      <td>GGGAACGACUCGAGUAGAGUCGAAAAAACACAUGAAUUUGAGGGUU...</td>\n",
       "      <td>.....((((((.....))))))...............((((((.(....</td>\n",
       "    </tr>\n",
       "    <tr>\n",
       "      <th>3</th>\n",
       "      <td>GGGAACGACUCGAGUAGAGUCGAAAAUCAGAGCUGGCAAAUGGAUG...</td>\n",
       "      <td>.....((((((.....))))))....((.(((..((((((.((.((...</td>\n",
       "    </tr>\n",
       "    <tr>\n",
       "      <th>4</th>\n",
       "      <td>GGGAACGACUCGAGUAGAGUCGAAAAUUUGGUAUUUGAUGCAUUAA...</td>\n",
       "      <td>.....((((((.....)))))).................((........</td>\n",
       "    </tr>\n",
       "  </tbody>\n",
       "</table>\n",
       "</div>"
      ],
      "text/plain": [
       "                                            sequence  \\\n",
       "0  GGGAACGACUCGAGUAGAGUCGAAAAUUUCCUUCCAAAUCCUGAGG...   \n",
       "1  GGGAACGACUCGAGUAGAGUCGAAAAUGUAAUCAGAUUGCUUCUCC...   \n",
       "2  GGGAACGACUCGAGUAGAGUCGAAAAAACACAUGAAUUUGAGGGUU...   \n",
       "3  GGGAACGACUCGAGUAGAGUCGAAAAUCAGAGCUGGCAAAUGGAUG...   \n",
       "4  GGGAACGACUCGAGUAGAGUCGAAAAUUUGGUAUUUGAUGCAUUAA...   \n",
       "\n",
       "                                        sequence_ext  \n",
       "0  (((((((((((.....)))))).....)))))......(((((((....  \n",
       "1  .....((((((.....))))))................((..((((...  \n",
       "2  .....((((((.....))))))...............((((((.(....  \n",
       "3  .....((((((.....))))))....((.(((..((((((.((.((...  \n",
       "4  .....((((((.....)))))).................((........  "
      ]
     },
     "execution_count": 2,
     "metadata": {},
     "output_type": "execute_result"
    }
   ],
   "source": [
    "import pandas as pd\n",
    "\n",
    "test_extracted_pd = pd.read_csv(TEST_DATA_EXT_PATH)\n",
    "test_extracted_pd.head()"
   ]
  },
  {
   "cell_type": "code",
   "execution_count": 3,
   "metadata": {},
   "outputs": [
    {
     "data": {
      "text/plain": [
       "20000"
      ]
     },
     "execution_count": 3,
     "metadata": {},
     "output_type": "execute_result"
    }
   ],
   "source": [
    "len(test_extracted_pd)"
   ]
  },
  {
   "cell_type": "code",
   "execution_count": 4,
   "metadata": {},
   "outputs": [],
   "source": [
    "import sys\n",
    "sys.path.append('..')\n",
    "\n",
    "from python_scripts.transformers.dataset import RNADataset_pred\n",
    "\n",
    "rna_extracted_dataset = RNADataset_pred(\n",
    "    data_ext = test_extracted_pd,\n",
    "    vocab=pd.read_csv('../data/vocab.csv'),\n",
    "    max_len=512\n",
    ")"
   ]
  },
  {
   "cell_type": "code",
   "execution_count": 5,
   "metadata": {},
   "outputs": [
    {
     "data": {
      "text/plain": [
       "===========================================================================\n",
       "Layer (type:depth-idx)                             Param #\n",
       "===========================================================================\n",
       "BERTCustomRNAReactivity                            --\n",
       "├─BERTCustom: 1-1                                  --\n",
       "│    └─CombEmbedding: 2-1                          --\n",
       "│    │    └─TokenEmbedding: 3-1                    2,944\n",
       "│    │    └─PositionEmbedding: 3-2                 --\n",
       "│    │    └─Dropout: 3-3                           --\n",
       "│    └─ModuleList: 2-2                             --\n",
       "│    │    └─EncoderBlock: 3-4                      231,232\n",
       "│    │    └─EncoderBlock: 3-5                      231,232\n",
       "│    │    └─EncoderBlock: 3-6                      231,232\n",
       "│    │    └─EncoderBlock: 3-7                      231,232\n",
       "│    │    └─EncoderBlock: 3-8                      231,232\n",
       "│    │    └─EncoderBlock: 3-9                      231,232\n",
       "│    │    └─EncoderBlock: 3-10                     231,232\n",
       "│    │    └─EncoderBlock: 3-11                     231,232\n",
       "│    │    └─EncoderBlock: 3-12                     231,232\n",
       "│    │    └─EncoderBlock: 3-13                     231,232\n",
       "│    │    └─EncoderBlock: 3-14                     231,232\n",
       "│    │    └─EncoderBlock: 3-15                     231,232\n",
       "├─Linear: 1-2                                      258\n",
       "===========================================================================\n",
       "Total params: 2,777,986\n",
       "Trainable params: 2,777,986\n",
       "Non-trainable params: 0\n",
       "==========================================================================="
      ]
     },
     "execution_count": 5,
     "metadata": {},
     "output_type": "execute_result"
    }
   ],
   "source": [
    "from torchinfo import summary\n",
    "\n",
    "import sys\n",
    "sys.path.append('..')\n",
    "\n",
    "from python_scripts.transformers.model import BERTCustomRNAReactivity, BERTCustom\n",
    "from torch.utils.data import DataLoader\n",
    "\n",
    "bertmodel = BERTCustom(\n",
    "    vocab_size=len(rna_extracted_dataset.vocab),\n",
    "    hidden=128,\n",
    "    dim_k=16,\n",
    "    num_layer=12,\n",
    "    num_attn_head=12\n",
    ")\n",
    "RNA_model = BERTCustomRNAReactivity(bertmodel)\n",
    "\n",
    "summary(RNA_model)"
   ]
  },
  {
   "cell_type": "code",
   "execution_count": 6,
   "metadata": {},
   "outputs": [
    {
     "name": "stderr",
     "output_type": "stream",
     "text": [
      "GPU available: True (mps), used: True\n",
      "TPU available: False, using: 0 TPU cores\n",
      "IPU available: False, using: 0 IPUs\n",
      "HPU available: False, using: 0 HPUs\n",
      "/Users/tglim/miniforge3/envs/autotrading/lib/python3.10/site-packages/lightning/pytorch/trainer/connectors/logger_connector/logger_connector.py:67: UserWarning: Starting from v1.9.0, `tensorboardX` has been removed as a dependency of the `lightning.pytorch` package, due to potential conflicts with other packages in the ML ecosystem. For this reason, `logger=True` will use `CSVLogger` as the default logger, unless the `tensorboard` or `tensorboardX` packages are found. Please `pip install lightning[extra]` or one of them to enable TensorBoard support by default\n",
      "  warning_cache.warn(\n",
      "/Users/tglim/miniforge3/envs/autotrading/lib/python3.10/site-packages/lightning/pytorch/trainer/connectors/data_connector.py:430: PossibleUserWarning: The dataloader, predict_dataloader, does not have many workers which may be a bottleneck. Consider increasing the value of the `num_workers` argument` (try 10 which is the number of cpus on this machine) in the `DataLoader` init to improve performance.\n",
      "  rank_zero_warn(\n"
     ]
    },
    {
     "name": "stdout",
     "output_type": "stream",
     "text": [
      "Predicting DataLoader 0:   0%|          | 0/2500 [00:00<?, ?it/s]"
     ]
    },
    {
     "name": "stderr",
     "output_type": "stream",
     "text": [
      "/Users/tglim/miniforge3/envs/autotrading/lib/python3.10/site-packages/lightning/pytorch/trainer/connectors/data_connector.py:370: UserWarning: You have overridden `on_before_batch_transfer` in `LightningModule` but have passed in a `LightningDataModule`. It will use the implementation from `LightningModule` instance.\n",
      "  warning_cache.warn(\n"
     ]
    },
    {
     "name": "stdout",
     "output_type": "stream",
     "text": [
      "Predicting DataLoader 0: 100%|██████████| 2500/2500 [03:46<00:00, 11.05it/s]\n"
     ]
    }
   ],
   "source": [
    "import torch\n",
    "\n",
    "import lightning.pytorch as pl\n",
    "\n",
    "import numpy as np\n",
    "\n",
    "import sys\n",
    "sys.path.append('..')\n",
    "\n",
    "from python_scripts.transformers.dataset import RNADataModule\n",
    "from python_scripts.transformers.task import RNATask\n",
    "\n",
    "rna_datamodule = RNADataModule(predict_dataset=rna_extracted_dataset, batch_size=8)\n",
    "\n",
    "# def rna_mae_loss(x: torch.tensor, y: torch.tensor, ignore_index=-100):\n",
    "#     not_ignore = y != ignore_index\n",
    "#     return torch.abs(x[not_ignore] - y[not_ignore]).mean()\n",
    "\n",
    "# rna_optimizer = torch.optim.SGD(RNA_model.parameters(), 1e-3, 0.9)\n",
    "# rna_scheduler = torch.optim.lr_scheduler.OneCycleLR(\n",
    "#     optimizer=rna_optimizer,\n",
    "#     max_lr=1e-3,\n",
    "#     steps_per_epoch=100,\n",
    "#     epochs=5,\n",
    "#     div_factor=1e2,\n",
    "#     verbose=False\n",
    "# )\n",
    "\n",
    "rna_task = RNATask.load_from_checkpoint(\n",
    "    checkpoint_path='./lightning_logs/test/checkpoints/epoch=0-step=2000.ckpt',\n",
    "    model=RNA_model,\n",
    "    # loss_fn=rna_mae_loss,\n",
    "    # optimizer=rna_optimizer,\n",
    "    # scheduler=rna_scheduler,\n",
    ")\n",
    "\n",
    "trainer = pl.Trainer()\n",
    "\n",
    "predictions = trainer.predict(rna_task, datamodule=rna_datamodule)\n",
    "\n",
    "predictions = np.concatenate(predictions, axis=1).clip(0, 1)"
   ]
  },
  {
   "cell_type": "code",
   "execution_count": 8,
   "metadata": {},
   "outputs": [],
   "source": [
    "submission = pd.read_csv(SUBMISSION_SAMPLE_FILE_PATH)\n",
    "# submission = pd.DataFrame({'reactivity_2A3_MaP': [], 'reactivity_DMS_MaP': []})\n",
    "submission['reactivity_2A3_MaP'] = predictions[0]\n",
    "submission['reactivity_DMS_MaP'] = predictions[1]\n",
    "submission.to_csv(SUBMISSION_FILE_PATH, index=False)"
   ]
  },
  {
   "cell_type": "code",
   "execution_count": null,
   "metadata": {},
   "outputs": [],
   "source": []
  }
 ],
 "metadata": {
  "kernelspec": {
   "display_name": "autotrading",
   "language": "python",
   "name": "python3"
  },
  "language_info": {
   "codemirror_mode": {
    "name": "ipython",
    "version": 3
   },
   "file_extension": ".py",
   "mimetype": "text/x-python",
   "name": "python",
   "nbconvert_exporter": "python",
   "pygments_lexer": "ipython3",
   "version": "3.10.12"
  }
 },
 "nbformat": 4,
 "nbformat_minor": 2
}
