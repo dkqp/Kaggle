{
 "cells": [
  {
   "attachments": {},
   "cell_type": "markdown",
   "metadata": {},
   "source": [
    "## KDT_AI-study Covid Xray\n",
    "\n",
    "https://www.kaggle.com/competitions/kdtai-1"
   ]
  },
  {
   "cell_type": "code",
   "execution_count": 1,
   "metadata": {},
   "outputs": [
    {
     "name": "stderr",
     "output_type": "stream",
     "text": [
      "c:\\Users\\TimJimTangtong\\Miniconda3\\envs\\torch-gpu\\lib\\site-packages\\tqdm\\auto.py:22: TqdmWarning: IProgress not found. Please update jupyter and ipywidgets. See https://ipywidgets.readthedocs.io/en/stable/user_install.html\n",
      "  from .autonotebook import tqdm as notebook_tqdm\n"
     ]
    }
   ],
   "source": [
    "import torch\n",
    "from torch import nn\n",
    "import torchvision\n",
    "from torchvision import transforms, datasets\n",
    "\n",
    "import pandas as pd\n",
    "\n",
    "import sys\n",
    "sys.path.append('..')\n",
    "\n",
    "from python_scripts import data_setup, engine"
   ]
  },
  {
   "cell_type": "code",
   "execution_count": 2,
   "metadata": {},
   "outputs": [],
   "source": [
    "if torch.cuda.is_available():\n",
    "    device = torch.device('cuda')\n",
    "elif torch.backends.mps.is_available():\n",
    "    device = torch.device('mps')\n",
    "else:\n",
    "    device = torch.device('cpu')"
   ]
  },
  {
   "cell_type": "code",
   "execution_count": 3,
   "metadata": {},
   "outputs": [],
   "source": [
    "train_labels = pd.read_csv('../data/COVID_19_XRAY/train/labels.csv')"
   ]
  },
  {
   "cell_type": "code",
   "execution_count": 5,
   "metadata": {},
   "outputs": [
    {
     "name": "stdout",
     "output_type": "stream",
     "text": [
      "['image_001.png', 'image_002.png', 'image_003.png', 'image_004.png', 'image_005.png', 'image_006.png', 'image_007.png', 'image_008.png', 'image_009.png', 'image_010.png', 'image_011.png', 'image_012.png', 'image_013.png', 'image_014.png', 'image_015.png', 'image_016.png', 'image_017.png', 'image_018.png', 'image_019.png', 'image_020.png', 'image_021.png', 'image_022.png', 'image_023.png', 'image_024.png', 'image_025.png', 'image_026.png', 'image_027.png', 'image_028.png', 'image_029.png', 'image_030.png', 'image_031.png', 'image_032.png', 'image_033.png', 'image_034.png', 'image_035.png', 'image_036.png', 'image_037.png', 'image_038.png', 'image_039.png', 'image_040.png', 'image_041.png', 'image_042.png', 'image_043.png', 'image_044.png', 'image_045.png', 'image_046.png', 'image_047.png', 'image_048.png', 'image_049.png', 'image_050.png', 'image_051.png', 'image_052.png', 'image_053.png', 'image_054.png', 'image_055.png', 'image_056.png', 'image_057.png', 'image_058.png', 'image_059.png', 'image_060.png', 'image_061.png', 'image_062.png', 'image_063.png', 'image_064.png', 'image_065.png', 'image_066.png', 'image_067.png', 'image_068.png', 'image_069.png', 'image_070.png', 'image_071.png', 'image_072.png', 'image_073.png', 'image_074.png', 'image_075.png', 'image_076.png', 'image_077.png', 'image_078.png', 'image_079.png', 'image_080.png', 'image_081.png', 'image_082.png', 'image_083.png', 'image_084.png', 'image_085.png', 'image_086.png', 'image_087.png', 'image_088.png', 'image_089.png', 'image_090.png', 'image_091.png', 'image_092.png', 'image_093.png', 'image_094.png', 'image_095.png', 'image_096.png', 'image_097.png', 'image_098.png', 'image_099.png', 'image_100.png', 'image_101.png', 'image_102.png', 'image_103.png', 'image_104.png', 'image_105.png', 'image_106.png', 'image_107.png', 'image_108.png', 'image_109.png', 'image_110.png', 'image_111.png', 'image_112.png', 'image_113.png', 'image_114.png', 'image_115.png', 'image_116.png', 'image_117.png', 'image_118.png', 'image_119.png', 'image_120.png', 'image_121.png', 'image_122.png', 'image_123.png', 'image_124.png', 'image_125.png', 'image_126.png', 'image_127.png', 'image_128.png', 'image_129.png', 'image_130.png', 'image_131.png', 'image_132.png', 'image_133.png', 'image_134.png', 'image_135.png', 'image_136.png', 'image_137.png', 'image_138.png', 'image_139.png', 'image_140.png', 'image_141.png', 'image_142.png', 'image_143.png', 'image_144.png', 'image_145.png', 'image_146.png', 'image_147.png', 'image_148.png', 'image_149.png', 'image_150.png', 'image_151.png', 'image_152.png', 'image_153.png', 'image_154.png', 'image_155.png', 'image_156.png', 'image_157.png', 'image_158.png', 'image_159.png', 'image_160.png', 'image_161.png', 'image_162.png', 'image_163.png', 'image_164.png', 'image_165.png', 'image_166.png', 'image_167.png', 'image_168.png', 'image_169.png', 'image_170.png', 'image_171.png', 'image_172.png', 'image_173.png', 'image_174.png', 'image_175.png', 'image_176.png', 'image_177.png', 'image_178.png', 'image_179.png', 'image_180.png', 'image_181.png', 'image_182.png', 'image_183.png', 'image_184.png', 'image_185.png', 'image_186.png', 'image_187.png', 'image_188.png', 'image_189.png', 'image_190.png', 'image_191.png', 'image_192.png', 'image_193.png', 'image_194.png', 'image_195.png', 'image_196.png', 'image_197.png', 'image_198.png', 'image_199.png', 'image_200.png', 'image_201.png', 'image_202.png', 'image_203.png', 'image_204.png', 'image_205.png', 'image_206.png', 'image_207.png', 'image_208.png', 'image_209.png', 'image_210.png', 'image_211.png', 'image_212.png', 'image_213.png', 'image_214.png', 'image_215.png', 'image_216.png', 'image_217.png', 'image_218.png', 'image_219.png', 'image_220.png', 'image_221.png', 'image_222.png', 'image_223.png', 'image_224.png', 'image_225.png', 'image_226.png', 'image_227.png', 'image_228.png', 'image_229.png', 'image_230.png', 'image_231.png', 'image_232.png', 'image_233.png', 'image_234.png', 'image_235.png', 'image_236.png', 'image_237.png', 'image_238.png', 'image_239.png', 'image_240.png', 'image_241.png', 'image_242.png', 'image_243.png', 'image_244.png', 'image_245.png', 'image_246.png', 'image_247.png', 'image_248.png', 'image_249.png', 'image_250.png', 'image_251.png', 'image_252.png', 'image_253.png', 'image_254.png', 'image_255.png', 'image_256.png', 'image_257.png', 'image_258.png', 'image_259.png', 'image_260.png', 'image_261.png', 'image_262.png', 'image_263.png', 'image_264.png', 'image_265.png', 'image_266.png', 'image_267.png', 'image_268.png', 'image_269.png', 'image_270.png', 'image_271.png', 'image_272.png', 'image_273.png', 'image_274.png', 'image_275.png', 'image_276.png', 'image_277.png', 'image_278.png', 'image_279.png', 'image_280.png', 'image_281.png', 'image_282.png', 'image_283.png', 'image_284.png', 'image_285.png', 'image_286.png', 'image_287.png', 'image_288.png', 'image_289.png', 'image_290.png', 'image_291.png', 'image_292.png', 'image_293.png', 'image_294.png', 'image_295.png', 'image_296.png', 'image_297.png', 'image_298.png', 'image_299.png', 'image_300.png', 'image_301.png', 'image_302.png', 'image_303.png', 'image_304.png', 'image_305.png', 'image_306.png', 'image_307.png', 'image_308.png', 'image_309.png', 'image_310.png', 'image_311.png', 'image_312.png', 'image_313.png', 'image_314.png', 'image_315.png', 'image_316.png', 'image_317.png', 'image_318.png', 'image_319.png', 'image_320.png', 'image_321.png', 'image_322.png', 'image_323.png', 'image_324.png', 'image_325.png', 'image_326.png', 'image_327.png', 'image_328.png', 'image_329.png', 'image_330.png', 'image_331.png', 'image_332.png', 'image_333.png', 'image_334.png', 'image_335.png', 'image_336.png', 'image_337.png', 'image_338.png', 'image_339.png', 'image_340.png', 'image_341.png', 'image_342.png', 'image_343.png', 'image_344.png', 'image_345.png', 'image_346.png', 'image_347.png', 'image_348.png', 'image_349.png', 'image_350.png', 'image_351.png', 'image_352.png', 'image_353.png', 'image_354.png', 'image_355.png', 'image_356.png', 'image_357.png', 'image_358.png', 'image_359.png', 'image_360.png', 'image_361.png', 'image_362.png', 'image_363.png', 'image_364.png', 'image_365.png', 'image_366.png', 'image_367.png', 'image_368.png', 'image_369.png', 'image_370.png', 'image_371.png', 'image_372.png', 'image_373.png', 'image_374.png', 'image_375.png', 'image_376.png', 'image_377.png', 'image_378.png', 'image_379.png', 'image_380.png', 'image_381.png', 'image_382.png', 'image_383.png', 'image_384.png', 'image_385.png', 'image_386.png', 'image_387.png', 'image_388.png', 'image_389.png', 'image_390.png', 'image_391.png', 'image_392.png', 'image_393.png', 'image_394.png', 'image_395.png', 'image_396.png', 'image_397.png', 'image_398.png', 'image_399.png', 'image_400.png', 'image_401.png', 'image_402.png', 'image_403.png', 'image_404.png', 'image_405.png', 'image_406.png', 'image_407.png', 'image_408.png', 'image_409.png', 'image_410.png', 'image_411.png', 'image_412.png', 'image_413.png', 'image_414.png', 'image_415.png', 'image_416.png', 'image_417.png', 'image_418.png', 'image_419.png', 'image_420.png', 'image_421.png', 'image_422.png', 'image_423.png', 'image_424.png', 'image_425.png', 'image_426.png', 'image_427.png', 'image_428.png', 'image_429.png', 'image_430.png', 'image_431.png', 'image_432.png', 'image_433.png', 'image_434.png', 'image_435.png', 'image_436.png', 'image_437.png', 'image_438.png', 'image_439.png', 'image_440.png', 'image_441.png', 'image_442.png', 'image_443.png', 'image_444.png', 'image_445.png', 'image_446.png', 'image_447.png', 'image_448.png', 'image_449.png', 'image_450.png', 'image_451.png', 'image_452.png', 'image_453.png', 'image_454.png', 'image_455.png', 'image_456.png', 'image_457.png', 'image_458.png', 'image_459.png', 'image_460.png', 'image_461.png', 'image_462.png', 'image_463.png', 'image_464.png', 'image_465.png', 'image_466.png', 'image_467.png', 'image_468.png', 'image_469.png', 'image_470.png', 'image_471.png', 'image_472.png', 'image_473.png', 'image_474.png', 'image_475.png', 'image_476.png', 'image_477.png', 'image_478.png', 'image_479.png', 'image_480.png', 'image_481.png', 'image_482.png', 'image_483.png', 'image_484.png', 'image_485.png', 'image_486.png', 'image_487.png', 'image_488.png', 'image_489.png', 'image_490.png', 'image_491.png', 'image_492.png', 'image_493.png', 'image_494.png', 'image_495.png', 'image_496.png', 'image_497.png', 'image_498.png', 'image_499.png', 'image_500.png', 'image_501.png', 'image_502.png', 'image_503.png', 'image_504.png', 'image_505.png', 'image_506.png', 'image_507.png', 'image_508.png', 'image_509.png', 'image_510.png', 'image_511.png', 'image_512.png', 'image_513.png', 'image_514.png', 'image_515.png', 'image_516.png', 'image_517.png', 'image_518.png', 'image_519.png', 'image_520.png', 'image_521.png', 'image_522.png', 'image_523.png', 'image_524.png', 'image_525.png', 'image_526.png', 'image_527.png', 'image_528.png', 'image_529.png', 'image_530.png', 'image_531.png', 'image_532.png', 'image_533.png', 'image_534.png', 'image_535.png', 'image_536.png', 'image_537.png', 'image_538.png', 'image_539.png', 'image_540.png', 'image_541.png', 'image_542.png', 'image_543.png', 'image_544.png', 'image_545.png', 'image_546.png', 'image_547.png', 'image_548.png', 'image_549.png', 'image_550.png', 'image_551.png', 'image_552.png', 'image_553.png', 'image_554.png', 'image_555.png', 'image_556.png', 'image_557.png', 'image_558.png', 'image_559.png', 'image_560.png', 'image_561.png', 'image_562.png', 'image_563.png', 'image_564.png', 'image_565.png', 'image_566.png', 'image_567.png', 'image_568.png', 'image_569.png', 'image_570.png', 'image_571.png', 'image_572.png', 'image_573.png', 'image_574.png', 'image_575.png', 'image_576.png', 'image_577.png', 'image_578.png', 'image_579.png', 'image_580.png', 'image_581.png', 'image_582.png', 'image_583.png', 'image_584.png', 'image_585.png', 'image_586.png', 'image_587.png', 'image_588.png', 'image_589.png', 'image_590.png', 'image_591.png', 'image_592.png', 'image_593.png', 'image_594.png', 'image_595.png', 'image_596.png', 'image_597.png', 'image_598.png', 'image_599.png', 'image_600.png', 'image_601.png', 'image_602.png', 'image_603.png', 'image_604.png', 'image_605.png', 'image_606.png', 'image_607.png', 'image_608.png', 'image_609.png', 'image_610.png', 'image_611.png', 'image_612.png', 'image_613.png', 'image_614.png', 'image_615.png', 'image_616.png', 'image_617.png', 'image_618.png', 'image_619.png', 'image_620.png', 'image_621.png', 'image_622.png', 'image_623.png', 'image_624.png', 'image_625.png', 'image_626.png', 'image_627.png', 'image_628.png', 'image_629.png', 'image_630.png', 'image_631.png', 'image_632.png', 'image_633.png', 'image_634.png', 'image_635.png', 'image_636.png', 'image_637.png', 'image_638.png', 'image_639.png', 'image_640.png', 'image_641.png', 'image_642.png', 'image_643.png', 'image_644.png', 'image_645.png', 'image_646.png', 'image_647.png', 'image_648.png', 'image_649.png', 'image_650.png', 'image_651.png', 'image_652.png', 'image_653.png', 'image_654.png', 'image_655.png', 'image_656.png', 'image_657.png', 'image_658.png', 'image_659.png', 'image_660.png', 'image_661.png', 'image_662.png', 'image_663.png', 'image_664.png', 'image_665.png', 'image_666.png', 'image_667.png', 'image_668.png', 'image_669.png', 'image_670.png', 'image_671.png', 'image_672.png', 'image_673.png', 'image_674.png', 'image_675.png', 'image_676.png', 'image_677.png', 'image_678.png', 'image_679.png', 'image_680.png', 'image_681.png', 'image_682.png', 'image_683.png', 'image_684.png', 'image_685.png', 'image_686.png', 'image_687.png', 'image_688.png', 'image_689.png', 'image_690.png', 'image_691.png', 'image_692.png', 'image_693.png', 'image_694.png', 'image_695.png', 'image_696.png', 'image_697.png', 'image_698.png', 'image_699.png', 'image_700.png', 'image_701.png', 'image_702.png', 'image_703.png', 'image_704.png', 'image_705.png', 'image_706.png', 'image_707.png', 'image_708.png', 'image_709.png', 'image_710.png', 'image_711.png', 'image_712.png', 'image_713.png', 'image_714.png', 'image_715.png', 'image_716.png', 'image_717.png', 'image_718.png', 'image_719.png', 'image_720.png', 'image_721.png', 'image_722.png', 'image_723.png', 'image_724.png', 'image_725.png', 'image_726.png', 'image_727.png', 'image_728.png', 'image_729.png', 'image_730.png', 'image_731.png', 'image_732.png', 'image_733.png', 'image_734.png', 'image_735.png', 'image_736.png', 'image_737.png', 'image_738.png', 'image_739.png', 'image_740.png', 'image_741.png', 'image_742.png', 'image_743.png', 'image_744.png', 'image_745.png', 'image_746.png', 'image_747.png', 'image_748.png', 'image_749.png', 'image_750.png', 'image_751.png', 'image_752.png', 'image_753.png', 'image_754.png', 'image_755.png', 'image_756.png', 'image_757.png', 'image_758.png', 'image_759.png', 'image_760.png', 'image_761.png', 'image_762.png', 'image_763.png', 'image_764.png', 'image_765.png', 'image_766.png', 'image_767.png', 'image_768.png', 'image_769.png', 'image_770.png', 'image_771.png', 'image_772.png', 'image_773.png', 'image_774.png', 'image_775.png', 'image_776.png', 'image_777.png', 'image_778.png', 'image_779.png', 'image_780.png', 'image_781.png', 'image_782.png', 'image_783.png', 'image_784.png', 'image_785.png', 'image_786.png', 'image_787.png', 'image_788.png', 'image_789.png', 'image_790.png', 'image_791.png', 'image_792.png', 'image_793.png', 'image_794.png', 'image_795.png', 'image_796.png', 'image_797.png', 'image_798.png', 'image_799.png', 'image_800.png', 'image_801.png', 'image_802.png', 'image_803.png', 'image_804.png', 'image_805.png', 'image_806.png', 'image_807.png', 'image_808.png', 'image_809.png', 'image_810.png', 'image_811.png', 'image_812.png', 'image_813.png', 'image_814.png', 'image_815.png', 'image_816.png', 'image_817.png', 'image_818.png', 'image_819.png', 'image_820.png', 'image_821.png', 'image_822.png', 'image_823.png', 'image_824.png', 'image_825.png', 'image_826.png', 'image_827.png', 'image_828.png', 'image_829.png', 'image_830.png', 'image_831.png', 'image_832.png', 'image_833.png', 'image_834.png', 'image_835.png', 'image_836.png', 'image_837.png', 'image_838.png', 'image_839.png', 'image_840.png', 'image_841.png', 'image_842.png', 'image_843.png', 'image_844.png', 'image_845.png', 'image_846.png', 'image_847.png', 'image_848.png', 'image_849.png', 'image_850.png', 'image_851.png', 'image_852.png', 'image_853.png', 'image_854.png', 'image_855.png', 'image_856.png', 'image_857.png', 'image_858.png', 'image_859.png', 'image_860.png', 'image_861.png', 'image_862.png', 'image_863.png', 'image_864.png', 'image_865.png', 'image_866.png', 'image_867.png', 'image_868.png', 'image_869.png', 'image_870.png', 'image_871.png', 'image_872.png', 'image_873.png', 'image_874.png', 'image_875.png', 'image_876.png', 'image_877.png', 'image_878.png', 'image_879.png', 'image_880.png', 'image_881.png', 'image_882.png', 'image_883.png', 'image_884.png', 'image_885.png', 'image_886.png', 'image_887.png', 'image_888.png', 'image_889.png', 'image_890.png', 'image_891.png', 'image_892.png', 'image_893.png', 'image_894.png', 'image_895.png', 'image_896.png', 'image_897.png', 'image_898.png', 'image_899.png', 'image_900.png', 'image_901.png', 'image_902.png', 'image_903.png', 'image_904.png', 'image_905.png', 'image_906.png', 'image_907.png', 'image_908.png', 'image_909.png', 'image_910.png', 'image_911.png', 'image_912.png', 'image_913.png', 'image_914.png', 'image_915.png', 'image_916.png', 'image_917.png', 'image_918.png', 'image_919.png', 'image_920.png', 'image_921.png', 'image_922.png', 'image_923.png', 'image_924.png', 'image_925.png', 'image_926.png', 'image_927.png', 'image_928.png', 'image_929.png', 'image_930.png', 'image_931.png', 'image_932.png', 'image_933.png', 'image_934.png', 'image_935.png', 'image_936.png', 'image_937.png', 'image_938.png', 'image_939.png', 'image_940.png', 'image_941.png', 'image_942.png', 'image_943.png', 'image_944.png', 'image_945.png', 'image_946.png', 'image_947.png', 'image_948.png', 'image_949.png', 'image_950.png', 'image_951.png', 'image_952.png', 'image_953.png', 'image_954.png', 'image_955.png', 'image_956.png', 'image_957.png', 'image_958.png', 'image_959.png', 'image_960.png', 'image_961.png', 'image_962.png', 'image_963.png', 'image_964.png', 'image_965.png', 'image_966.png', 'image_967.png', 'image_968.png', 'image_969.png', 'image_970.png', 'image_971.png', 'image_972.png', 'image_973.png', 'image_974.png', 'image_975.png', 'image_976.png', 'image_977.png', 'image_978.png', 'image_979.png', 'image_980.png', 'image_981.png', 'image_982.png', 'image_983.png', 'image_984.png', 'image_985.png', 'image_986.png', 'image_987.png', 'image_988.png', 'image_989.png', 'image_990.png', 'image_991.png', 'image_992.png', 'image_993.png', 'image_994.png', 'image_995.png', 'image_996.png', 'image_997.png', 'image_998.png', 'image_999.png', 'image_1000.png', 'image_1001.png', 'image_1002.png', 'image_1003.png', 'image_1004.png', 'image_1005.png', 'image_1006.png', 'image_1007.png', 'image_1008.png', 'image_1009.png', 'image_1010.png', 'image_1011.png', 'image_1012.png', 'image_1013.png', 'image_1014.png', 'image_1015.png', 'image_1016.png', 'image_1017.png', 'image_1018.png', 'image_1019.png', 'image_1020.png', 'image_1021.png', 'image_1022.png', 'image_1023.png', 'image_1024.png', 'image_1025.png', 'image_1026.png', 'image_1027.png', 'image_1028.png', 'image_1029.png', 'image_1030.png', 'image_1031.png', 'image_1032.png', 'image_1033.png', 'image_1034.png', 'image_1035.png', 'image_1036.png', 'image_1037.png', 'image_1038.png', 'image_1039.png', 'image_1040.png', 'image_1041.png', 'image_1042.png', 'image_1043.png', 'image_1044.png', 'image_1045.png', 'image_1046.png', 'image_1047.png', 'image_1048.png', 'image_1049.png', 'image_1050.png', 'image_1051.png', 'image_1052.png', 'image_1053.png', 'image_1054.png', 'image_1055.png', 'image_1056.png', 'image_1057.png', 'image_1058.png', 'image_1059.png', 'image_1060.png', 'image_1061.png', 'image_1062.png', 'image_1063.png', 'image_1064.png', 'image_1065.png', 'image_1066.png', 'image_1067.png', 'image_1068.png', 'image_1069.png', 'image_1070.png', 'image_1071.png', 'image_1072.png', 'image_1073.png', 'image_1074.png', 'image_1075.png', 'image_1076.png', 'image_1077.png', 'image_1078.png', 'image_1079.png', 'image_1080.png', 'image_1081.png', 'image_1082.png', 'image_1083.png', 'image_1084.png', 'image_1085.png', 'image_1086.png', 'image_1087.png', 'image_1088.png', 'image_1089.png', 'image_1090.png', 'image_1091.png', 'image_1092.png', 'image_1093.png', 'image_1094.png', 'image_1095.png', 'image_1096.png', 'image_1097.png', 'image_1098.png', 'image_1099.png', 'image_1100.png', 'image_1101.png', 'image_1102.png', 'image_1103.png', 'image_1104.png', 'image_1105.png', 'image_1106.png', 'image_1107.png', 'image_1108.png', 'image_1109.png', 'image_1110.png', 'image_1111.png', 'image_1112.png', 'image_1113.png', 'image_1114.png', 'image_1115.png', 'image_1116.png', 'image_1117.png', 'image_1118.png', 'image_1119.png', 'image_1120.png', 'image_1121.png', 'image_1122.png', 'image_1123.png', 'image_1124.png', 'image_1125.png', 'image_1126.png', 'image_1127.png', 'image_1128.png', 'image_1129.png', 'image_1130.png', 'image_1131.png', 'image_1132.png', 'image_1133.png', 'image_1134.png', 'image_1135.png', 'image_1136.png', 'image_1137.png', 'image_1138.png', 'image_1139.png', 'image_1140.png', 'image_1141.png', 'image_1142.png', 'image_1143.png', 'image_1144.png', 'image_1145.png', 'image_1146.png', 'image_1147.png', 'image_1148.png', 'image_1149.png', 'image_1150.png', 'image_1151.png', 'image_1152.png', 'image_1153.png', 'image_1154.png', 'image_1155.png', 'image_1156.png', 'image_1157.png', 'image_1158.png', 'image_1159.png', 'image_1160.png', 'image_1161.png', 'image_1162.png', 'image_1163.png', 'image_1164.png', 'image_1165.png', 'image_1166.png', 'image_1167.png', 'image_1168.png', 'image_1169.png', 'image_1170.png', 'image_1171.png', 'image_1172.png', 'image_1173.png', 'image_1174.png', 'image_1175.png', 'image_1176.png', 'image_1177.png', 'image_1178.png', 'image_1179.png', 'image_1180.png', 'image_1181.png', 'image_1182.png', 'image_1183.png', 'image_1184.png', 'image_1185.png', 'image_1186.png', 'image_1187.png', 'image_1188.png', 'image_1189.png', 'image_1190.png', 'image_1191.png', 'image_1192.png', 'image_1193.png', 'image_1194.png', 'image_1195.png', 'image_1196.png', 'image_1197.png', 'image_1198.png', 'image_1199.png', 'image_1200.png', 'image_1201.png', 'image_1202.png', 'image_1203.png', 'image_1204.png', 'image_1205.png', 'image_1206.png', 'image_1207.png', 'image_1208.png', 'image_1209.png', 'image_1210.png', 'image_1211.png', 'image_1212.png', 'image_1213.png', 'image_1214.png', 'image_1215.png', 'image_1216.png', 'image_1217.png', 'image_1218.png', 'image_1219.png', 'image_1220.png', 'image_1221.png', 'image_1222.png', 'image_1223.png', 'image_1224.png', 'image_1225.png', 'image_1226.png', 'image_1227.png', 'image_1228.png', 'image_1229.png', 'image_1230.png', 'image_1231.png', 'image_1232.png', 'image_1233.png', 'image_1234.png', 'image_1235.png', 'image_1236.png', 'image_1237.png', 'image_1238.png', 'image_1239.png', 'image_1240.png', 'image_1241.png', 'image_1242.png', 'image_1243.png', 'image_1244.png', 'image_1245.png', 'image_1246.png', 'image_1247.png', 'image_1248.png', 'image_1249.png', 'image_1250.png', 'image_1251.png', 'image_1252.png', 'image_1253.png', 'image_1254.png', 'image_1255.png', 'image_1256.png', 'image_1257.png', 'image_1258.png', 'image_1259.png', 'image_1260.png', 'image_1261.png', 'image_1262.png', 'image_1263.png', 'image_1264.png', 'image_1265.png', 'image_1266.png', 'image_1267.png', 'image_1268.png', 'image_1269.png', 'image_1270.png', 'image_1271.png', 'image_1272.png', 'image_1273.png', 'image_1274.png', 'image_1275.png', 'image_1276.png', 'image_1277.png', 'image_1278.png', 'image_1279.png', 'image_1280.png', 'image_1281.png', 'image_1282.png', 'image_1283.png', 'image_1284.png', 'image_1285.png', 'image_1286.png', 'image_1287.png', 'image_1288.png', 'image_1289.png', 'image_1290.png', 'image_1291.png', 'image_1292.png', 'image_1293.png', 'image_1294.png', 'image_1295.png', 'image_1296.png', 'image_1297.png', 'image_1298.png', 'image_1299.png', 'image_1300.png', 'image_1301.png', 'image_1302.png', 'image_1303.png', 'image_1304.png', 'image_1305.png', 'image_1306.png', 'image_1307.png', 'image_1308.png', 'image_1309.png', 'image_1310.png', 'image_1311.png', 'image_1312.png', 'image_1313.png', 'image_1314.png', 'image_1315.png', 'image_1316.png', 'image_1317.png', 'image_1318.png', 'image_1319.png', 'image_1320.png', 'image_1321.png', 'image_1322.png', 'image_1323.png', 'image_1324.png', 'image_1325.png', 'image_1326.png', 'image_1327.png', 'image_1328.png', 'image_1329.png', 'image_1330.png', 'image_1331.png', 'image_1332.png', 'image_1333.png', 'image_1334.png', 'image_1335.png', 'image_1336.png', 'image_1337.png', 'image_1338.png', 'image_1339.png', 'image_1340.png', 'image_1341.png', 'image_1342.png', 'image_1343.png', 'image_1344.png', 'image_1345.png', 'image_1346.png', 'image_1347.png', 'image_1348.png', 'image_1349.png', 'image_1350.png', 'image_1351.png', 'image_1352.png', 'image_1353.png', 'image_1354.png', 'image_1355.png', 'image_1356.png', 'image_1357.png', 'image_1358.png', 'image_1359.png', 'image_1360.png', 'image_1361.png', 'image_1362.png', 'image_1363.png', 'image_1364.png', 'image_1365.png', 'image_1366.png', 'image_1367.png', 'image_1368.png', 'image_1369.png', 'image_1370.png', 'image_1371.png', 'image_1372.png', 'image_1373.png', 'image_1374.png', 'image_1375.png', 'image_1376.png', 'image_1377.png', 'image_1378.png', 'image_1379.png', 'image_1380.png', 'image_1381.png', 'image_1382.png', 'image_1383.png', 'image_1384.png', 'image_1385.png', 'image_1386.png', 'image_1387.png', 'image_1388.png', 'image_1389.png', 'image_1390.png', 'image_1391.png', 'image_1392.png', 'image_1393.png', 'image_1394.png', 'image_1395.png', 'image_1396.png', 'image_1397.png', 'image_1398.png', 'image_1399.png', 'image_1400.png', 'image_1401.png', 'image_1402.png', 'image_1403.png', 'image_1404.png', 'image_1405.png', 'image_1406.png', 'image_1407.png', 'image_1408.png', 'image_1409.png', 'image_1410.png', 'image_1411.png', 'image_1412.png', 'image_1413.png', 'image_1414.png', 'image_1415.png', 'image_1416.png', 'image_1417.png', 'image_1418.png', 'image_1419.png', 'image_1420.png', 'image_1421.png', 'image_1422.png', 'image_1423.png', 'image_1424.png', 'image_1425.png', 'image_1426.png', 'image_1427.png', 'image_1428.png', 'image_1429.png', 'image_1430.png', 'image_1431.png', 'image_1432.png', 'image_1433.png', 'image_1434.png', 'image_1435.png', 'image_1436.png', 'image_1437.png', 'image_1438.png', 'image_1439.png', 'image_1440.png', 'image_1441.png', 'image_1442.png', 'image_1443.png', 'image_1444.png', 'image_1445.png', 'image_1446.png', 'image_1447.png', 'image_1448.png', 'image_1449.png', 'image_1450.png', 'image_1451.png', 'image_1452.png', 'image_1453.png', 'image_1454.png', 'image_1455.png', 'image_1456.png', 'image_1457.png', 'image_1458.png', 'image_1459.png', 'image_1460.png', 'image_1461.png', 'image_1462.png', 'image_1463.png', 'image_1464.png', 'image_1465.png', 'image_1466.png', 'image_1467.png', 'image_1468.png', 'image_1469.png', 'image_1470.png', 'image_1471.png', 'image_1472.png', 'image_1473.png', 'image_1474.png', 'image_1475.png', 'image_1476.png', 'image_1477.png', 'image_1478.png', 'image_1479.png', 'image_1480.png', 'image_1481.png', 'image_1482.png', 'image_1483.png', 'image_1484.png', 'image_1485.png', 'image_1486.png', 'image_1487.png', 'image_1488.png', 'image_1489.png', 'image_1490.png', 'image_1491.png', 'image_1492.png', 'image_1493.png', 'image_1494.png', 'image_1495.png', 'image_1496.png', 'image_1497.png', 'image_1498.png', 'image_1499.png', 'image_1500.png', 'image_1501.png', 'image_1502.png', 'image_1503.png', 'image_1504.png', 'image_1505.png', 'image_1506.png', 'image_1507.png', 'image_1508.png', 'image_1509.png', 'image_1510.png', 'image_1511.png', 'image_1512.png', 'image_1513.png', 'image_1514.png', 'image_1515.png', 'image_1516.png', 'image_1517.png', 'image_1518.png', 'image_1519.png', 'image_1520.png', 'image_1521.png', 'image_1522.png', 'image_1523.png', 'image_1524.png', 'image_1525.png', 'image_1526.png', 'image_1527.png', 'image_1528.png', 'image_1529.png', 'image_1530.png', 'image_1531.png', 'image_1532.png', 'image_1533.png', 'image_1534.png', 'image_1535.png', 'image_1536.png', 'image_1537.png', 'image_1538.png', 'image_1539.png', 'image_1540.png', 'image_1541.png', 'image_1542.png', 'image_1543.png', 'image_1544.png', 'image_1545.png', 'image_1546.png', 'image_1547.png', 'image_1548.png', 'image_1549.png', 'image_1550.png', 'image_1551.png', 'image_1552.png', 'image_1553.png', 'image_1554.png', 'image_1555.png', 'image_1556.png', 'image_1557.png', 'image_1558.png', 'image_1559.png', 'image_1560.png', 'image_1561.png', 'image_1562.png', 'image_1563.png', 'image_1564.png', 'image_1565.png', 'image_1566.png', 'image_1567.png', 'image_1568.png', 'image_1569.png', 'image_1570.png', 'image_1571.png', 'image_1572.png', 'image_1573.png', 'image_1574.png', 'image_1575.png', 'image_1576.png', 'image_1577.png', 'image_1578.png', 'image_1579.png', 'image_1580.png', 'image_1581.png', 'image_1582.png', 'image_1583.png', 'image_1584.png', 'image_1585.png', 'image_1586.png', 'image_1587.png', 'image_1588.png', 'image_1589.png', 'image_1590.png', 'image_1591.png', 'image_1592.png', 'image_1593.png', 'image_1594.png', 'image_1595.png', 'image_1596.png', 'image_1597.png', 'image_1598.png', 'image_1599.png', 'image_1600.png', 'image_1601.png', 'image_1602.png', 'image_1603.png', 'image_1604.png', 'image_1605.png', 'image_1606.png', 'image_1607.png', 'image_1608.png', 'image_1609.png', 'image_1610.png', 'image_1611.png', 'image_1612.png', 'image_1613.png', 'image_1614.png', 'image_1615.png', 'image_1616.png', 'image_1617.png', 'image_1618.png', 'image_1619.png', 'image_1620.png', 'image_1621.png', 'image_1622.png', 'image_1623.png', 'image_1624.png', 'image_1625.png', 'image_1626.png', 'image_1627.png', 'image_1628.png', 'image_1629.png', 'image_1630.png', 'image_1631.png', 'image_1632.png', 'image_1633.png', 'image_1634.png', 'image_1635.png', 'image_1636.png', 'image_1637.png', 'image_1638.png', 'image_1639.png', 'image_1640.png', 'image_1641.png', 'image_1642.png', 'image_1643.png', 'image_1644.png', 'image_1645.png', 'image_1646.png', 'image_1647.png', 'image_1648.png', 'image_1649.png', 'image_1650.png', 'image_1651.png', 'image_1652.png', 'image_1653.png', 'image_1654.png', 'image_1655.png', 'image_1656.png', 'image_1657.png', 'image_1658.png', 'image_1659.png', 'image_1660.png', 'image_1661.png', 'image_1662.png', 'image_1663.png', 'image_1664.png', 'image_1665.png', 'image_1666.png', 'image_1667.png', 'image_1668.png', 'image_1669.png', 'image_1670.png', 'image_1671.png', 'image_1672.png', 'image_1673.png', 'image_1674.png', 'image_1675.png', 'image_1676.png', 'image_1677.png', 'image_1678.png', 'image_1679.png', 'image_1680.png', 'image_1681.png', 'image_1682.png', 'image_1683.png', 'image_1684.png', 'image_1685.png', 'image_1686.png', 'image_1687.png', 'image_1688.png', 'image_1689.png', 'image_1690.png', 'image_1691.png', 'image_1692.png', 'image_1693.png', 'image_1694.png', 'image_1695.png', 'image_1696.png', 'image_1697.png', 'image_1698.png', 'image_1699.png', 'image_1700.png', 'image_1701.png', 'image_1702.png', 'image_1703.png', 'image_1704.png', 'image_1705.png', 'image_1706.png', 'image_1707.png', 'image_1708.png', 'image_1709.png', 'image_1710.png', 'image_1711.png', 'image_1712.png', 'image_1713.png', 'image_1714.png', 'image_1715.png', 'image_1716.png', 'image_1717.png', 'image_1718.png', 'image_1719.png', 'image_1720.png', 'image_1721.png', 'image_1722.png', 'image_1723.png', 'image_1724.png', 'image_1725.png', 'image_1726.png', 'image_1727.png', 'image_1728.png', 'image_1729.png', 'image_1730.png', 'image_1731.png', 'image_1732.png', 'image_1733.png', 'image_1734.png', 'image_1735.png', 'image_1736.png', 'image_1737.png', 'image_1738.png', 'image_1739.png', 'image_1740.png', 'image_1741.png', 'image_1742.png', 'image_1743.png', 'image_1744.png', 'image_1745.png', 'image_1746.png', 'image_1747.png', 'image_1748.png', 'image_1749.png', 'image_1750.png', 'image_1751.png', 'image_1752.png', 'image_1753.png', 'image_1754.png', 'image_1755.png', 'image_1756.png', 'image_1757.png', 'image_1758.png', 'image_1759.png', 'image_1760.png', 'image_1761.png', 'image_1762.png', 'image_1763.png', 'image_1764.png', 'image_1765.png', 'image_1766.png', 'image_1767.png', 'image_1768.png', 'image_1769.png', 'image_1770.png', 'image_1771.png', 'image_1772.png', 'image_1773.png', 'image_1774.png', 'image_1775.png', 'image_1776.png', 'image_1777.png', 'image_1778.png', 'image_1779.png', 'image_1780.png', 'image_1781.png', 'image_1782.png', 'image_1783.png', 'image_1784.png', 'image_1785.png', 'image_1786.png', 'image_1787.png', 'image_1788.png', 'image_1789.png', 'image_1790.png', 'image_1791.png', 'image_1792.png', 'image_1793.png', 'image_1794.png', 'image_1795.png', 'image_1796.png', 'image_1797.png', 'image_1798.png', 'image_1799.png', 'image_1800.png', 'image_1801.png', 'image_1802.png', 'image_1803.png', 'image_1804.png', 'image_1805.png', 'image_1806.png', 'image_1807.png', 'image_1808.png', 'image_1809.png', 'image_1810.png', 'image_1811.png', 'image_1812.png', 'image_1813.png', 'image_1814.png', 'image_1815.png', 'image_1816.png', 'image_1817.png', 'image_1818.png', 'image_1819.png', 'image_1820.png', 'image_1821.png', 'image_1822.png', 'image_1823.png', 'image_1824.png', 'image_1825.png', 'image_1826.png', 'image_1827.png', 'image_1828.png', 'image_1829.png', 'image_1830.png', 'image_1831.png', 'image_1832.png', 'image_1833.png', 'image_1834.png', 'image_1835.png', 'image_1836.png', 'image_1837.png', 'image_1838.png', 'image_1839.png', 'image_1840.png', 'image_1841.png', 'image_1842.png', 'image_1843.png', 'image_1844.png', 'image_1845.png', 'image_1846.png', 'image_1847.png', 'image_1848.png', 'image_1849.png', 'image_1850.png', 'image_1851.png', 'image_1852.png', 'image_1853.png', 'image_1854.png', 'image_1855.png', 'image_1856.png', 'image_1857.png', 'image_1858.png', 'image_1859.png', 'image_1860.png', 'image_1861.png', 'image_1862.png', 'image_1863.png', 'image_1864.png', 'image_1865.png', 'image_1866.png', 'image_1867.png', 'image_1868.png', 'image_1869.png', 'image_1870.png', 'image_1871.png', 'image_1872.png', 'image_1873.png', 'image_1874.png', 'image_1875.png', 'image_1876.png', 'image_1877.png', 'image_1878.png', 'image_1879.png', 'image_1880.png', 'image_1881.png', 'image_1882.png', 'image_1883.png', 'image_1884.png', 'image_1885.png', 'image_1886.png', 'image_1887.png', 'image_1888.png', 'image_1889.png', 'image_1890.png', 'image_1891.png', 'image_1892.png', 'image_1893.png', 'image_1894.png', 'image_1895.png', 'image_1896.png', 'image_1897.png', 'image_1898.png', 'image_1899.png', 'image_1900.png', 'image_1901.png', 'image_1902.png', 'image_1903.png', 'image_1904.png', 'image_1905.png', 'image_1906.png', 'image_1907.png', 'image_1908.png', 'image_1909.png', 'image_1910.png', 'image_1911.png', 'image_1912.png', 'image_1913.png', 'image_1914.png', 'image_1915.png', 'image_1916.png', 'image_1917.png', 'image_1918.png', 'image_1919.png', 'image_1920.png', 'image_1921.png', 'image_1922.png', 'image_1923.png', 'image_1924.png', 'image_1925.png', 'image_1926.png', 'image_1927.png', 'image_1928.png', 'image_1929.png', 'image_1930.png', 'image_1931.png', 'image_1932.png', 'image_1933.png', 'image_1934.png', 'image_1935.png', 'image_1936.png', 'image_1937.png', 'image_1938.png', 'image_1939.png', 'image_1940.png', 'image_1941.png', 'image_1942.png', 'image_1943.png', 'image_1944.png', 'image_1945.png', 'image_1946.png', 'image_1947.png', 'image_1948.png', 'image_1949.png', 'image_1950.png', 'image_1951.png', 'image_1952.png', 'image_1953.png', 'image_1954.png', 'image_1955.png', 'image_1956.png', 'image_1957.png', 'image_1958.png', 'image_1959.png', 'image_1960.png', 'image_1961.png', 'image_1962.png', 'image_1963.png', 'image_1964.png', 'image_1965.png', 'image_1966.png', 'image_1967.png', 'image_1968.png', 'image_1969.png', 'image_1970.png', 'image_1971.png', 'image_1972.png', 'image_1973.png', 'image_1974.png', 'image_1975.png', 'image_1976.png', 'image_1977.png', 'image_1978.png', 'image_1979.png', 'image_1980.png', 'image_1981.png', 'image_1982.png', 'image_1983.png', 'image_1984.png', 'image_1985.png', 'image_1986.png', 'image_1987.png', 'image_1988.png', 'image_1989.png', 'image_1990.png', 'image_1991.png', 'image_1992.png', 'image_1993.png', 'image_1994.png', 'image_1995.png', 'image_1996.png', 'image_1997.png', 'image_1998.png', 'image_1999.png', 'image_2000.png']\n"
     ]
    }
   ],
   "source": [
    "import os\n",
    "from pathlib import Path\n",
    "\n",
    "current_path = Path('../data/COVID_19_XRAY/train')\n",
    "covid_path = Path('../data/COVID_19_XRAY/train/covid')\n",
    "normal_path = Path('../data/COVID_19_XRAY/train/normal')\n",
    "\n",
    "covid_path.mkdir(parents=True, exist_ok=True)\n",
    "normal_path.mkdir(parents=True, exist_ok=True)\n",
    "\n",
    "for dirpath, dirnames, filenames in os.walk(current_path):\n",
    "  if dirpath == str(current_path):\n",
    "    image_names = filenames\n",
    "\n",
    "image_names.sort(key=lambda x: (len(x), x))\n",
    "image_names.pop(0)\n",
    "\n",
    "print(image_names)"
   ]
  },
  {
   "cell_type": "code",
   "execution_count": 6,
   "metadata": {},
   "outputs": [],
   "source": [
    "for i in range(len(train_labels)):\n",
    "  if train_labels.label.iloc[i] == 'covid':\n",
    "    os.rename(current_path / image_names[i], covid_path / image_names[i])\n",
    "  else:\n",
    "    os.rename(current_path / image_names[i], normal_path / image_names[i])"
   ]
  },
  {
   "cell_type": "code",
   "execution_count": 7,
   "metadata": {},
   "outputs": [
    {
     "name": "stdout",
     "output_type": "stream",
     "text": [
      "There are 2 directories and 0 images in ..\\data\\COVID_19_XRAY\\train.\n",
      "There are 0 directories and 1000 images in ..\\data\\COVID_19_XRAY\\train\\covid.\n",
      "There are 0 directories and 1000 images in ..\\data\\COVID_19_XRAY\\train\\normal.\n"
     ]
    }
   ],
   "source": [
    "def walk_through_dir(dir_path):\n",
    "    '''Walks through dir_path returning its contents.'''\n",
    "    for dirpath, dirnames, filenames in os.walk(dir_path):\n",
    "        num_images = len(list(Path(dirpath).glob('*.png')))\n",
    "        print(f'There are {len(dirnames)} directories and {num_images} images in {dirpath}.')\n",
    "\n",
    "walk_through_dir(current_path)"
   ]
  },
  {
   "cell_type": "code",
   "execution_count": 8,
   "metadata": {},
   "outputs": [
    {
     "name": "stdout",
     "output_type": "stream",
     "text": [
      "[INFO] Splitting dataset of length 2000 into splits of size: 2000 and 0\n",
      "[INFO] Splitting dataset of length 2000 into splits of size: 400 and 1600\n"
     ]
    }
   ],
   "source": [
    "whole_dataset = datasets.ImageFolder(\n",
    "  root=current_path,\n",
    "  transform=transforms.Compose([\n",
    "    transforms.RandomRotation(30),\n",
    "    transforms.RandomResizedCrop(224),\n",
    "    transforms.RandomHorizontalFlip(),\n",
    "    transforms.AutoAugment(transforms.AutoAugmentPolicy.IMAGENET),\n",
    "    transforms.ToTensor(),\n",
    "    transforms.Normalize(\n",
    "      [0.485, 0.456, 0.406],\n",
    "      [0.229, 0.224, 0.225]\n",
    "    )\n",
    "  ])\n",
    ")\n",
    "\n",
    "# 모델 비교 단계에서 사용\n",
    "# train_dataset, valid_dataset = data_setup.split_dataset(\n",
    "#     dataset=whole_dataset,\n",
    "#     split_size=0.8,\n",
    "#     seed=42\n",
    "# )\n",
    "\n",
    "# 최종 제출을 위해 모든 이미지 사용하여 학습\n",
    "train_dataset, _ = data_setup.split_dataset(\n",
    "    dataset=whole_dataset,\n",
    "    split_size=1,\n",
    "    seed=42\n",
    ")\n",
    "\n",
    "_, valid_dataset = data_setup.split_dataset(\n",
    "    dataset=whole_dataset,\n",
    "    split_size=0.2,\n",
    "    seed=42\n",
    ")\n",
    "\n",
    "class_names = whole_dataset.classes"
   ]
  },
  {
   "cell_type": "code",
   "execution_count": 9,
   "metadata": {},
   "outputs": [],
   "source": [
    "learning_rate_list = [1e-4, 1e-5, 1e-6] # 각 LR 별로 50 epoch 씩 연달아 학습 진행\n",
    "weight_decay_list = [1e-4]\n",
    "epochs_list = [50]\n",
    "batch_size_list = [16]"
   ]
  },
  {
   "cell_type": "code",
   "execution_count": 10,
   "metadata": {},
   "outputs": [
    {
     "name": "stdout",
     "output_type": "stream",
     "text": [
      "[INFO] Creating SummaryWriter saving to ../runs\\2023-04-04\\ResNet152_covid-xray_2000_test\\ResNet152_covid-xray_2000\\LR_0.0001_WD_0.0001_EP_50_BS_16_GA_1\n"
     ]
    },
    {
     "name": "stderr",
     "output_type": "stream",
     "text": [
      "  2%|▏         | 1/50 [01:10<57:30, 70.43s/it]"
     ]
    },
    {
     "name": "stdout",
     "output_type": "stream",
     "text": [
      "Epoch: 0 | Train_loss: 0.5036, Train_acc: 0.7555 | Test_loss: 0.4153, Test_acc: 0.8163\n"
     ]
    },
    {
     "name": "stderr",
     "output_type": "stream",
     "text": [
      "  4%|▍         | 2/50 [02:19<55:42, 69.63s/it]"
     ]
    },
    {
     "name": "stdout",
     "output_type": "stream",
     "text": [
      "Epoch: 1 | Train_loss: 0.3971, Train_acc: 0.8165 | Test_loss: 0.3694, Test_acc: 0.8363\n"
     ]
    },
    {
     "name": "stderr",
     "output_type": "stream",
     "text": [
      "  6%|▌         | 3/50 [03:28<54:09, 69.14s/it]"
     ]
    },
    {
     "name": "stdout",
     "output_type": "stream",
     "text": [
      "Epoch: 2 | Train_loss: 0.3451, Train_acc: 0.8415 | Test_loss: 0.3188, Test_acc: 0.8600\n"
     ]
    },
    {
     "name": "stderr",
     "output_type": "stream",
     "text": [
      "  8%|▊         | 4/50 [04:35<52:32, 68.52s/it]"
     ]
    },
    {
     "name": "stdout",
     "output_type": "stream",
     "text": [
      "Epoch: 3 | Train_loss: 0.3435, Train_acc: 0.8480 | Test_loss: 0.2889, Test_acc: 0.8813\n"
     ]
    },
    {
     "name": "stderr",
     "output_type": "stream",
     "text": [
      " 10%|█         | 5/50 [05:43<51:15, 68.34s/it]"
     ]
    },
    {
     "name": "stdout",
     "output_type": "stream",
     "text": [
      "Epoch: 4 | Train_loss: 0.3166, Train_acc: 0.8625 | Test_loss: 0.3085, Test_acc: 0.8706\n"
     ]
    },
    {
     "name": "stderr",
     "output_type": "stream",
     "text": [
      " 12%|█▏        | 6/50 [06:52<50:07, 68.36s/it]"
     ]
    },
    {
     "name": "stdout",
     "output_type": "stream",
     "text": [
      "Epoch: 5 | Train_loss: 0.3069, Train_acc: 0.8675 | Test_loss: 0.2560, Test_acc: 0.8869\n"
     ]
    },
    {
     "name": "stderr",
     "output_type": "stream",
     "text": [
      " 14%|█▍        | 7/50 [07:59<48:49, 68.13s/it]"
     ]
    },
    {
     "name": "stdout",
     "output_type": "stream",
     "text": [
      "Epoch: 6 | Train_loss: 0.2712, Train_acc: 0.8915 | Test_loss: 0.2652, Test_acc: 0.8881\n"
     ]
    },
    {
     "name": "stderr",
     "output_type": "stream",
     "text": [
      " 16%|█▌        | 8/50 [09:07<47:41, 68.13s/it]"
     ]
    },
    {
     "name": "stdout",
     "output_type": "stream",
     "text": [
      "Epoch: 7 | Train_loss: 0.2845, Train_acc: 0.8790 | Test_loss: 0.2495, Test_acc: 0.8925\n"
     ]
    },
    {
     "name": "stderr",
     "output_type": "stream",
     "text": [
      " 18%|█▊        | 9/50 [10:14<46:20, 67.82s/it]"
     ]
    },
    {
     "name": "stdout",
     "output_type": "stream",
     "text": [
      "Epoch: 8 | Train_loss: 0.2708, Train_acc: 0.8925 | Test_loss: 0.2796, Test_acc: 0.8769\n"
     ]
    },
    {
     "name": "stderr",
     "output_type": "stream",
     "text": [
      " 20%|██        | 10/50 [11:22<45:07, 67.69s/it]"
     ]
    },
    {
     "name": "stdout",
     "output_type": "stream",
     "text": [
      "Epoch: 9 | Train_loss: 0.2727, Train_acc: 0.8785 | Test_loss: 0.2282, Test_acc: 0.9081\n"
     ]
    },
    {
     "name": "stderr",
     "output_type": "stream",
     "text": [
      " 22%|██▏       | 11/50 [12:30<44:01, 67.72s/it]"
     ]
    },
    {
     "name": "stdout",
     "output_type": "stream",
     "text": [
      "Epoch: 10 | Train_loss: 0.2698, Train_acc: 0.8835 | Test_loss: 0.2281, Test_acc: 0.9025\n"
     ]
    },
    {
     "name": "stderr",
     "output_type": "stream",
     "text": [
      " 24%|██▍       | 12/50 [13:37<42:52, 67.69s/it]"
     ]
    },
    {
     "name": "stdout",
     "output_type": "stream",
     "text": [
      "Epoch: 11 | Train_loss: 0.2438, Train_acc: 0.9015 | Test_loss: 0.2085, Test_acc: 0.9125\n"
     ]
    },
    {
     "name": "stderr",
     "output_type": "stream",
     "text": [
      " 26%|██▌       | 13/50 [14:45<41:40, 67.57s/it]"
     ]
    },
    {
     "name": "stdout",
     "output_type": "stream",
     "text": [
      "Epoch: 12 | Train_loss: 0.2274, Train_acc: 0.9080 | Test_loss: 0.1775, Test_acc: 0.9237\n"
     ]
    },
    {
     "name": "stderr",
     "output_type": "stream",
     "text": [
      " 28%|██▊       | 14/50 [15:54<40:52, 68.12s/it]"
     ]
    },
    {
     "name": "stdout",
     "output_type": "stream",
     "text": [
      "Epoch: 13 | Train_loss: 0.2458, Train_acc: 0.8990 | Test_loss: 0.1942, Test_acc: 0.9212\n"
     ]
    },
    {
     "name": "stderr",
     "output_type": "stream",
     "text": [
      " 30%|███       | 15/50 [17:02<39:46, 68.19s/it]"
     ]
    },
    {
     "name": "stdout",
     "output_type": "stream",
     "text": [
      "Epoch: 14 | Train_loss: 0.2196, Train_acc: 0.9045 | Test_loss: 0.2023, Test_acc: 0.9169\n"
     ]
    },
    {
     "name": "stderr",
     "output_type": "stream",
     "text": [
      " 32%|███▏      | 16/50 [18:10<38:30, 67.95s/it]"
     ]
    },
    {
     "name": "stdout",
     "output_type": "stream",
     "text": [
      "Epoch: 15 | Train_loss: 0.2208, Train_acc: 0.9015 | Test_loss: 0.2193, Test_acc: 0.9075\n"
     ]
    },
    {
     "name": "stderr",
     "output_type": "stream",
     "text": [
      " 34%|███▍      | 17/50 [19:17<37:19, 67.87s/it]"
     ]
    },
    {
     "name": "stdout",
     "output_type": "stream",
     "text": [
      "Epoch: 16 | Train_loss: 0.2217, Train_acc: 0.9025 | Test_loss: 0.1866, Test_acc: 0.9231\n"
     ]
    },
    {
     "name": "stderr",
     "output_type": "stream",
     "text": [
      " 36%|███▌      | 18/50 [20:25<36:09, 67.78s/it]"
     ]
    },
    {
     "name": "stdout",
     "output_type": "stream",
     "text": [
      "Epoch: 17 | Train_loss: 0.2058, Train_acc: 0.9125 | Test_loss: 0.2858, Test_acc: 0.8769\n"
     ]
    },
    {
     "name": "stderr",
     "output_type": "stream",
     "text": [
      " 38%|███▊      | 19/50 [21:33<35:02, 67.81s/it]"
     ]
    },
    {
     "name": "stdout",
     "output_type": "stream",
     "text": [
      "Epoch: 18 | Train_loss: 0.2254, Train_acc: 0.9015 | Test_loss: 0.1625, Test_acc: 0.9375\n"
     ]
    },
    {
     "name": "stderr",
     "output_type": "stream",
     "text": [
      " 40%|████      | 20/50 [22:40<33:47, 67.59s/it]"
     ]
    },
    {
     "name": "stdout",
     "output_type": "stream",
     "text": [
      "Epoch: 19 | Train_loss: 0.1995, Train_acc: 0.9180 | Test_loss: 0.1642, Test_acc: 0.9225\n"
     ]
    },
    {
     "name": "stderr",
     "output_type": "stream",
     "text": [
      " 42%|████▏     | 21/50 [23:48<32:41, 67.64s/it]"
     ]
    },
    {
     "name": "stdout",
     "output_type": "stream",
     "text": [
      "Epoch: 20 | Train_loss: 0.2267, Train_acc: 0.9055 | Test_loss: 0.1642, Test_acc: 0.9356\n"
     ]
    },
    {
     "name": "stderr",
     "output_type": "stream",
     "text": [
      " 44%|████▍     | 22/50 [24:55<31:35, 67.68s/it]"
     ]
    },
    {
     "name": "stdout",
     "output_type": "stream",
     "text": [
      "Epoch: 21 | Train_loss: 0.1937, Train_acc: 0.9205 | Test_loss: 0.1675, Test_acc: 0.9394\n"
     ]
    },
    {
     "name": "stderr",
     "output_type": "stream",
     "text": [
      " 46%|████▌     | 23/50 [26:04<30:32, 67.85s/it]"
     ]
    },
    {
     "name": "stdout",
     "output_type": "stream",
     "text": [
      "Epoch: 22 | Train_loss: 0.1824, Train_acc: 0.9260 | Test_loss: 0.1313, Test_acc: 0.9419\n"
     ]
    },
    {
     "name": "stderr",
     "output_type": "stream",
     "text": [
      " 48%|████▊     | 24/50 [27:12<29:24, 67.85s/it]"
     ]
    },
    {
     "name": "stdout",
     "output_type": "stream",
     "text": [
      "Epoch: 23 | Train_loss: 0.2177, Train_acc: 0.9100 | Test_loss: 0.1487, Test_acc: 0.9438\n"
     ]
    },
    {
     "name": "stderr",
     "output_type": "stream",
     "text": [
      " 50%|█████     | 25/50 [28:19<28:13, 67.74s/it]"
     ]
    },
    {
     "name": "stdout",
     "output_type": "stream",
     "text": [
      "Epoch: 24 | Train_loss: 0.1836, Train_acc: 0.9285 | Test_loss: 0.1645, Test_acc: 0.9375\n"
     ]
    },
    {
     "name": "stderr",
     "output_type": "stream",
     "text": [
      " 52%|█████▏    | 26/50 [29:27<27:06, 67.75s/it]"
     ]
    },
    {
     "name": "stdout",
     "output_type": "stream",
     "text": [
      "Epoch: 25 | Train_loss: 0.1975, Train_acc: 0.9150 | Test_loss: 0.1583, Test_acc: 0.9362\n"
     ]
    },
    {
     "name": "stderr",
     "output_type": "stream",
     "text": [
      " 54%|█████▍    | 27/50 [30:34<25:56, 67.67s/it]"
     ]
    },
    {
     "name": "stdout",
     "output_type": "stream",
     "text": [
      "Epoch: 26 | Train_loss: 0.1910, Train_acc: 0.9225 | Test_loss: 0.1560, Test_acc: 0.9344\n"
     ]
    },
    {
     "name": "stderr",
     "output_type": "stream",
     "text": [
      " 56%|█████▌    | 28/50 [31:42<24:47, 67.61s/it]"
     ]
    },
    {
     "name": "stdout",
     "output_type": "stream",
     "text": [
      "Epoch: 27 | Train_loss: 0.1853, Train_acc: 0.9205 | Test_loss: 0.1635, Test_acc: 0.9356\n"
     ]
    },
    {
     "name": "stderr",
     "output_type": "stream",
     "text": [
      " 58%|█████▊    | 29/50 [32:50<23:41, 67.68s/it]"
     ]
    },
    {
     "name": "stdout",
     "output_type": "stream",
     "text": [
      "Epoch: 28 | Train_loss: 0.1852, Train_acc: 0.9220 | Test_loss: 0.1400, Test_acc: 0.9438\n"
     ]
    },
    {
     "name": "stderr",
     "output_type": "stream",
     "text": [
      " 60%|██████    | 30/50 [33:58<22:36, 67.84s/it]"
     ]
    },
    {
     "name": "stdout",
     "output_type": "stream",
     "text": [
      "Epoch: 29 | Train_loss: 0.1926, Train_acc: 0.9160 | Test_loss: 0.1557, Test_acc: 0.9306\n"
     ]
    },
    {
     "name": "stderr",
     "output_type": "stream",
     "text": [
      " 62%|██████▏   | 31/50 [35:05<21:24, 67.60s/it]"
     ]
    },
    {
     "name": "stdout",
     "output_type": "stream",
     "text": [
      "Epoch: 30 | Train_loss: 0.1650, Train_acc: 0.9295 | Test_loss: 0.1598, Test_acc: 0.9287\n"
     ]
    },
    {
     "name": "stderr",
     "output_type": "stream",
     "text": [
      " 64%|██████▍   | 32/50 [36:13<20:18, 67.69s/it]"
     ]
    },
    {
     "name": "stdout",
     "output_type": "stream",
     "text": [
      "Epoch: 31 | Train_loss: 0.1833, Train_acc: 0.9225 | Test_loss: 0.1094, Test_acc: 0.9556\n"
     ]
    },
    {
     "name": "stderr",
     "output_type": "stream",
     "text": [
      " 66%|██████▌   | 33/50 [37:21<19:11, 67.73s/it]"
     ]
    },
    {
     "name": "stdout",
     "output_type": "stream",
     "text": [
      "Epoch: 32 | Train_loss: 0.1515, Train_acc: 0.9335 | Test_loss: 0.1359, Test_acc: 0.9488\n"
     ]
    },
    {
     "name": "stderr",
     "output_type": "stream",
     "text": [
      " 68%|██████▊   | 34/50 [38:29<18:05, 67.84s/it]"
     ]
    },
    {
     "name": "stdout",
     "output_type": "stream",
     "text": [
      "Epoch: 33 | Train_loss: 0.1679, Train_acc: 0.9270 | Test_loss: 0.1508, Test_acc: 0.9413\n"
     ]
    },
    {
     "name": "stderr",
     "output_type": "stream",
     "text": [
      " 70%|███████   | 35/50 [39:37<16:58, 67.91s/it]"
     ]
    },
    {
     "name": "stdout",
     "output_type": "stream",
     "text": [
      "Epoch: 34 | Train_loss: 0.1618, Train_acc: 0.9355 | Test_loss: 0.2311, Test_acc: 0.9275\n"
     ]
    },
    {
     "name": "stderr",
     "output_type": "stream",
     "text": [
      " 72%|███████▏  | 36/50 [40:45<15:51, 67.94s/it]"
     ]
    },
    {
     "name": "stdout",
     "output_type": "stream",
     "text": [
      "Epoch: 35 | Train_loss: 0.1797, Train_acc: 0.9275 | Test_loss: 0.1581, Test_acc: 0.9262\n"
     ]
    },
    {
     "name": "stderr",
     "output_type": "stream",
     "text": [
      " 74%|███████▍  | 37/50 [41:53<14:44, 68.00s/it]"
     ]
    },
    {
     "name": "stdout",
     "output_type": "stream",
     "text": [
      "Epoch: 36 | Train_loss: 0.1753, Train_acc: 0.9240 | Test_loss: 0.1360, Test_acc: 0.9500\n"
     ]
    },
    {
     "name": "stderr",
     "output_type": "stream",
     "text": [
      " 76%|███████▌  | 38/50 [43:01<13:36, 68.01s/it]"
     ]
    },
    {
     "name": "stdout",
     "output_type": "stream",
     "text": [
      "Epoch: 37 | Train_loss: 0.1522, Train_acc: 0.9340 | Test_loss: 0.1407, Test_acc: 0.9475\n"
     ]
    },
    {
     "name": "stderr",
     "output_type": "stream",
     "text": [
      " 78%|███████▊  | 39/50 [44:09<12:26, 67.90s/it]"
     ]
    },
    {
     "name": "stdout",
     "output_type": "stream",
     "text": [
      "Epoch: 38 | Train_loss: 0.1721, Train_acc: 0.9285 | Test_loss: 0.1382, Test_acc: 0.9444\n"
     ]
    },
    {
     "name": "stderr",
     "output_type": "stream",
     "text": [
      " 80%|████████  | 40/50 [45:16<11:18, 67.83s/it]"
     ]
    },
    {
     "name": "stdout",
     "output_type": "stream",
     "text": [
      "Epoch: 39 | Train_loss: 0.1573, Train_acc: 0.9440 | Test_loss: 0.1286, Test_acc: 0.9500\n"
     ]
    },
    {
     "name": "stderr",
     "output_type": "stream",
     "text": [
      " 82%|████████▏ | 41/50 [46:23<10:08, 67.64s/it]"
     ]
    },
    {
     "name": "stdout",
     "output_type": "stream",
     "text": [
      "Epoch: 40 | Train_loss: 0.1730, Train_acc: 0.9275 | Test_loss: 0.1317, Test_acc: 0.9500\n"
     ]
    },
    {
     "name": "stderr",
     "output_type": "stream",
     "text": [
      " 84%|████████▍ | 42/50 [47:31<09:01, 67.74s/it]"
     ]
    },
    {
     "name": "stdout",
     "output_type": "stream",
     "text": [
      "Epoch: 41 | Train_loss: 0.1671, Train_acc: 0.9290 | Test_loss: 0.1364, Test_acc: 0.9444\n"
     ]
    },
    {
     "name": "stderr",
     "output_type": "stream",
     "text": [
      " 86%|████████▌ | 43/50 [48:39<07:54, 67.74s/it]"
     ]
    },
    {
     "name": "stdout",
     "output_type": "stream",
     "text": [
      "Epoch: 42 | Train_loss: 0.1568, Train_acc: 0.9445 | Test_loss: 0.1401, Test_acc: 0.9475\n"
     ]
    },
    {
     "name": "stderr",
     "output_type": "stream",
     "text": [
      " 88%|████████▊ | 44/50 [49:46<06:45, 67.57s/it]"
     ]
    },
    {
     "name": "stdout",
     "output_type": "stream",
     "text": [
      "Epoch: 43 | Train_loss: 0.1434, Train_acc: 0.9455 | Test_loss: 0.1405, Test_acc: 0.9475\n"
     ]
    },
    {
     "name": "stderr",
     "output_type": "stream",
     "text": [
      " 90%|█████████ | 45/50 [50:54<05:38, 67.61s/it]"
     ]
    },
    {
     "name": "stdout",
     "output_type": "stream",
     "text": [
      "Epoch: 44 | Train_loss: 0.1539, Train_acc: 0.9325 | Test_loss: 0.1133, Test_acc: 0.9494\n"
     ]
    },
    {
     "name": "stderr",
     "output_type": "stream",
     "text": [
      " 92%|█████████▏| 46/50 [52:01<04:30, 67.52s/it]"
     ]
    },
    {
     "name": "stdout",
     "output_type": "stream",
     "text": [
      "Epoch: 45 | Train_loss: 0.1612, Train_acc: 0.9345 | Test_loss: 0.1085, Test_acc: 0.9600\n"
     ]
    },
    {
     "name": "stderr",
     "output_type": "stream",
     "text": [
      " 94%|█████████▍| 47/50 [53:09<03:22, 67.56s/it]"
     ]
    },
    {
     "name": "stdout",
     "output_type": "stream",
     "text": [
      "Epoch: 46 | Train_loss: 0.1568, Train_acc: 0.9425 | Test_loss: 0.1124, Test_acc: 0.9581\n"
     ]
    },
    {
     "name": "stderr",
     "output_type": "stream",
     "text": [
      " 96%|█████████▌| 48/50 [54:16<02:15, 67.52s/it]"
     ]
    },
    {
     "name": "stdout",
     "output_type": "stream",
     "text": [
      "Epoch: 47 | Train_loss: 0.1546, Train_acc: 0.9345 | Test_loss: 0.1110, Test_acc: 0.9575\n"
     ]
    },
    {
     "name": "stderr",
     "output_type": "stream",
     "text": [
      " 98%|█████████▊| 49/50 [55:25<01:07, 67.70s/it]"
     ]
    },
    {
     "name": "stdout",
     "output_type": "stream",
     "text": [
      "Epoch: 48 | Train_loss: 0.1376, Train_acc: 0.9510 | Test_loss: 0.1135, Test_acc: 0.9631\n"
     ]
    },
    {
     "name": "stderr",
     "output_type": "stream",
     "text": [
      "100%|██████████| 50/50 [56:32<00:00, 67.86s/it]\n"
     ]
    },
    {
     "name": "stdout",
     "output_type": "stream",
     "text": [
      "Epoch: 49 | Train_loss: 0.1418, Train_acc: 0.9450 | Test_loss: 0.1049, Test_acc: 0.9575\n",
      "[INFO] Creating SummaryWriter saving to ../runs\\2023-04-04\\ResNet152_covid-xray_2000_test\\ResNet152_covid-xray_2000\\LR_1e-05_WD_0.0001_EP_50_BS_16_GA_1\n"
     ]
    },
    {
     "name": "stderr",
     "output_type": "stream",
     "text": [
      "  2%|▏         | 1/50 [01:07<55:27, 67.91s/it]"
     ]
    },
    {
     "name": "stdout",
     "output_type": "stream",
     "text": [
      "Epoch: 0 | Train_loss: 0.1161, Train_acc: 0.9510 | Test_loss: 0.0968, Test_acc: 0.9631\n"
     ]
    },
    {
     "name": "stderr",
     "output_type": "stream",
     "text": [
      "  4%|▍         | 2/50 [02:15<54:18, 67.89s/it]"
     ]
    },
    {
     "name": "stdout",
     "output_type": "stream",
     "text": [
      "Epoch: 1 | Train_loss: 0.1185, Train_acc: 0.9535 | Test_loss: 0.0802, Test_acc: 0.9663\n"
     ]
    },
    {
     "name": "stderr",
     "output_type": "stream",
     "text": [
      "  6%|▌         | 3/50 [03:23<53:03, 67.73s/it]"
     ]
    },
    {
     "name": "stdout",
     "output_type": "stream",
     "text": [
      "Epoch: 2 | Train_loss: 0.1060, Train_acc: 0.9585 | Test_loss: 0.0851, Test_acc: 0.9669\n"
     ]
    },
    {
     "name": "stderr",
     "output_type": "stream",
     "text": [
      "  8%|▊         | 4/50 [04:31<51:58, 67.80s/it]"
     ]
    },
    {
     "name": "stdout",
     "output_type": "stream",
     "text": [
      "Epoch: 3 | Train_loss: 0.0966, Train_acc: 0.9640 | Test_loss: 0.0707, Test_acc: 0.9756\n"
     ]
    },
    {
     "name": "stderr",
     "output_type": "stream",
     "text": [
      " 10%|█         | 5/50 [05:39<50:51, 67.80s/it]"
     ]
    },
    {
     "name": "stdout",
     "output_type": "stream",
     "text": [
      "Epoch: 4 | Train_loss: 0.0881, Train_acc: 0.9685 | Test_loss: 0.0752, Test_acc: 0.9731\n"
     ]
    },
    {
     "name": "stderr",
     "output_type": "stream",
     "text": [
      " 12%|█▏        | 6/50 [06:47<49:46, 67.87s/it]"
     ]
    },
    {
     "name": "stdout",
     "output_type": "stream",
     "text": [
      "Epoch: 5 | Train_loss: 0.0719, Train_acc: 0.9730 | Test_loss: 0.0669, Test_acc: 0.9737\n"
     ]
    },
    {
     "name": "stderr",
     "output_type": "stream",
     "text": [
      " 14%|█▍        | 7/50 [07:55<48:41, 67.95s/it]"
     ]
    },
    {
     "name": "stdout",
     "output_type": "stream",
     "text": [
      "Epoch: 6 | Train_loss: 0.0931, Train_acc: 0.9615 | Test_loss: 0.0710, Test_acc: 0.9719\n"
     ]
    },
    {
     "name": "stderr",
     "output_type": "stream",
     "text": [
      " 16%|█▌        | 8/50 [09:02<47:30, 67.87s/it]"
     ]
    },
    {
     "name": "stdout",
     "output_type": "stream",
     "text": [
      "Epoch: 7 | Train_loss: 0.0871, Train_acc: 0.9630 | Test_loss: 0.0686, Test_acc: 0.9750\n"
     ]
    },
    {
     "name": "stderr",
     "output_type": "stream",
     "text": [
      " 18%|█▊        | 9/50 [10:10<46:24, 67.91s/it]"
     ]
    },
    {
     "name": "stdout",
     "output_type": "stream",
     "text": [
      "Epoch: 8 | Train_loss: 0.0897, Train_acc: 0.9640 | Test_loss: 0.0647, Test_acc: 0.9775\n"
     ]
    },
    {
     "name": "stderr",
     "output_type": "stream",
     "text": [
      " 20%|██        | 10/50 [11:18<45:14, 67.85s/it]"
     ]
    },
    {
     "name": "stdout",
     "output_type": "stream",
     "text": [
      "Epoch: 9 | Train_loss: 0.0913, Train_acc: 0.9640 | Test_loss: 0.0670, Test_acc: 0.9769\n"
     ]
    },
    {
     "name": "stderr",
     "output_type": "stream",
     "text": [
      " 22%|██▏       | 11/50 [12:25<44:00, 67.71s/it]"
     ]
    },
    {
     "name": "stdout",
     "output_type": "stream",
     "text": [
      "Epoch: 10 | Train_loss: 0.0765, Train_acc: 0.9690 | Test_loss: 0.0576, Test_acc: 0.9812\n"
     ]
    },
    {
     "name": "stderr",
     "output_type": "stream",
     "text": [
      " 24%|██▍       | 12/50 [13:33<42:48, 67.60s/it]"
     ]
    },
    {
     "name": "stdout",
     "output_type": "stream",
     "text": [
      "Epoch: 11 | Train_loss: 0.0808, Train_acc: 0.9675 | Test_loss: 0.0672, Test_acc: 0.9750\n"
     ]
    },
    {
     "name": "stderr",
     "output_type": "stream",
     "text": [
      " 26%|██▌       | 13/50 [14:40<41:35, 67.45s/it]"
     ]
    },
    {
     "name": "stdout",
     "output_type": "stream",
     "text": [
      "Epoch: 12 | Train_loss: 0.0831, Train_acc: 0.9670 | Test_loss: 0.0595, Test_acc: 0.9787\n"
     ]
    },
    {
     "name": "stderr",
     "output_type": "stream",
     "text": [
      " 28%|██▊       | 14/50 [15:48<40:31, 67.53s/it]"
     ]
    },
    {
     "name": "stdout",
     "output_type": "stream",
     "text": [
      "Epoch: 13 | Train_loss: 0.0871, Train_acc: 0.9670 | Test_loss: 0.0629, Test_acc: 0.9725\n"
     ]
    },
    {
     "name": "stderr",
     "output_type": "stream",
     "text": [
      " 30%|███       | 15/50 [16:56<39:28, 67.67s/it]"
     ]
    },
    {
     "name": "stdout",
     "output_type": "stream",
     "text": [
      "Epoch: 14 | Train_loss: 0.0706, Train_acc: 0.9715 | Test_loss: 0.0588, Test_acc: 0.9794\n"
     ]
    },
    {
     "name": "stderr",
     "output_type": "stream",
     "text": [
      " 32%|███▏      | 16/50 [18:04<38:25, 67.80s/it]"
     ]
    },
    {
     "name": "stdout",
     "output_type": "stream",
     "text": [
      "Epoch: 15 | Train_loss: 0.0836, Train_acc: 0.9675 | Test_loss: 0.0603, Test_acc: 0.9762\n"
     ]
    },
    {
     "name": "stderr",
     "output_type": "stream",
     "text": [
      " 34%|███▍      | 17/50 [19:12<37:17, 67.81s/it]"
     ]
    },
    {
     "name": "stdout",
     "output_type": "stream",
     "text": [
      "Epoch: 16 | Train_loss: 0.0733, Train_acc: 0.9715 | Test_loss: 0.0511, Test_acc: 0.9806\n"
     ]
    },
    {
     "name": "stderr",
     "output_type": "stream",
     "text": [
      " 36%|███▌      | 18/50 [20:20<36:13, 67.91s/it]"
     ]
    },
    {
     "name": "stdout",
     "output_type": "stream",
     "text": [
      "Epoch: 17 | Train_loss: 0.0738, Train_acc: 0.9705 | Test_loss: 0.0492, Test_acc: 0.9831\n"
     ]
    },
    {
     "name": "stderr",
     "output_type": "stream",
     "text": [
      " 38%|███▊      | 19/50 [21:27<35:00, 67.76s/it]"
     ]
    },
    {
     "name": "stdout",
     "output_type": "stream",
     "text": [
      "Epoch: 18 | Train_loss: 0.0837, Train_acc: 0.9660 | Test_loss: 0.0521, Test_acc: 0.9800\n"
     ]
    },
    {
     "name": "stderr",
     "output_type": "stream",
     "text": [
      " 40%|████      | 20/50 [22:35<33:51, 67.73s/it]"
     ]
    },
    {
     "name": "stdout",
     "output_type": "stream",
     "text": [
      "Epoch: 19 | Train_loss: 0.0685, Train_acc: 0.9720 | Test_loss: 0.0664, Test_acc: 0.9737\n"
     ]
    },
    {
     "name": "stderr",
     "output_type": "stream",
     "text": [
      " 42%|████▏     | 21/50 [23:43<32:44, 67.75s/it]"
     ]
    },
    {
     "name": "stdout",
     "output_type": "stream",
     "text": [
      "Epoch: 20 | Train_loss: 0.0696, Train_acc: 0.9725 | Test_loss: 0.0496, Test_acc: 0.9837\n"
     ]
    },
    {
     "name": "stderr",
     "output_type": "stream",
     "text": [
      " 44%|████▍     | 22/50 [24:50<31:37, 67.77s/it]"
     ]
    },
    {
     "name": "stdout",
     "output_type": "stream",
     "text": [
      "Epoch: 21 | Train_loss: 0.0756, Train_acc: 0.9720 | Test_loss: 0.0624, Test_acc: 0.9781\n"
     ]
    },
    {
     "name": "stderr",
     "output_type": "stream",
     "text": [
      " 46%|████▌     | 23/50 [25:58<30:29, 67.77s/it]"
     ]
    },
    {
     "name": "stdout",
     "output_type": "stream",
     "text": [
      "Epoch: 22 | Train_loss: 0.0688, Train_acc: 0.9735 | Test_loss: 0.0446, Test_acc: 0.9837\n"
     ]
    },
    {
     "name": "stderr",
     "output_type": "stream",
     "text": [
      " 48%|████▊     | 24/50 [27:07<29:28, 68.04s/it]"
     ]
    },
    {
     "name": "stdout",
     "output_type": "stream",
     "text": [
      "Epoch: 23 | Train_loss: 0.0746, Train_acc: 0.9735 | Test_loss: 0.0503, Test_acc: 0.9819\n"
     ]
    },
    {
     "name": "stderr",
     "output_type": "stream",
     "text": [
      " 50%|█████     | 25/50 [28:14<28:15, 67.84s/it]"
     ]
    },
    {
     "name": "stdout",
     "output_type": "stream",
     "text": [
      "Epoch: 24 | Train_loss: 0.0692, Train_acc: 0.9710 | Test_loss: 0.0591, Test_acc: 0.9737\n"
     ]
    },
    {
     "name": "stderr",
     "output_type": "stream",
     "text": [
      " 52%|█████▏    | 26/50 [29:22<27:04, 67.69s/it]"
     ]
    },
    {
     "name": "stdout",
     "output_type": "stream",
     "text": [
      "Epoch: 25 | Train_loss: 0.0718, Train_acc: 0.9725 | Test_loss: 0.0454, Test_acc: 0.9850\n"
     ]
    },
    {
     "name": "stderr",
     "output_type": "stream",
     "text": [
      " 54%|█████▍    | 27/50 [30:29<25:55, 67.61s/it]"
     ]
    },
    {
     "name": "stdout",
     "output_type": "stream",
     "text": [
      "Epoch: 26 | Train_loss: 0.0719, Train_acc: 0.9715 | Test_loss: 0.0523, Test_acc: 0.9806\n"
     ]
    },
    {
     "name": "stderr",
     "output_type": "stream",
     "text": [
      " 56%|█████▌    | 28/50 [31:37<24:47, 67.61s/it]"
     ]
    },
    {
     "name": "stdout",
     "output_type": "stream",
     "text": [
      "Epoch: 27 | Train_loss: 0.0671, Train_acc: 0.9730 | Test_loss: 0.0596, Test_acc: 0.9769\n"
     ]
    },
    {
     "name": "stderr",
     "output_type": "stream",
     "text": [
      " 58%|█████▊    | 29/50 [32:44<23:38, 67.55s/it]"
     ]
    },
    {
     "name": "stdout",
     "output_type": "stream",
     "text": [
      "Epoch: 28 | Train_loss: 0.0610, Train_acc: 0.9750 | Test_loss: 0.0517, Test_acc: 0.9800\n"
     ]
    },
    {
     "name": "stderr",
     "output_type": "stream",
     "text": [
      " 60%|██████    | 30/50 [33:52<22:32, 67.61s/it]"
     ]
    },
    {
     "name": "stdout",
     "output_type": "stream",
     "text": [
      "Epoch: 29 | Train_loss: 0.0673, Train_acc: 0.9715 | Test_loss: 0.0551, Test_acc: 0.9756\n"
     ]
    },
    {
     "name": "stderr",
     "output_type": "stream",
     "text": [
      " 62%|██████▏   | 31/50 [34:59<21:22, 67.51s/it]"
     ]
    },
    {
     "name": "stdout",
     "output_type": "stream",
     "text": [
      "Epoch: 30 | Train_loss: 0.0499, Train_acc: 0.9785 | Test_loss: 0.0604, Test_acc: 0.9781\n"
     ]
    },
    {
     "name": "stderr",
     "output_type": "stream",
     "text": [
      " 64%|██████▍   | 32/50 [36:07<20:17, 67.63s/it]"
     ]
    },
    {
     "name": "stdout",
     "output_type": "stream",
     "text": [
      "Epoch: 31 | Train_loss: 0.0553, Train_acc: 0.9775 | Test_loss: 0.0519, Test_acc: 0.9819\n"
     ]
    },
    {
     "name": "stderr",
     "output_type": "stream",
     "text": [
      " 66%|██████▌   | 33/50 [37:14<19:09, 67.61s/it]"
     ]
    },
    {
     "name": "stdout",
     "output_type": "stream",
     "text": [
      "Epoch: 32 | Train_loss: 0.0704, Train_acc: 0.9750 | Test_loss: 0.0532, Test_acc: 0.9794\n"
     ]
    },
    {
     "name": "stderr",
     "output_type": "stream",
     "text": [
      " 68%|██████▊   | 34/50 [38:22<18:03, 67.73s/it]"
     ]
    },
    {
     "name": "stdout",
     "output_type": "stream",
     "text": [
      "Epoch: 33 | Train_loss: 0.0683, Train_acc: 0.9690 | Test_loss: 0.0516, Test_acc: 0.9819\n"
     ]
    },
    {
     "name": "stderr",
     "output_type": "stream",
     "text": [
      " 70%|███████   | 35/50 [39:31<16:57, 67.85s/it]"
     ]
    },
    {
     "name": "stdout",
     "output_type": "stream",
     "text": [
      "Epoch: 34 | Train_loss: 0.0626, Train_acc: 0.9730 | Test_loss: 0.0448, Test_acc: 0.9844\n"
     ]
    },
    {
     "name": "stderr",
     "output_type": "stream",
     "text": [
      " 72%|███████▏  | 36/50 [40:39<15:50, 67.88s/it]"
     ]
    },
    {
     "name": "stdout",
     "output_type": "stream",
     "text": [
      "Epoch: 35 | Train_loss: 0.0660, Train_acc: 0.9720 | Test_loss: 0.0452, Test_acc: 0.9825\n"
     ]
    },
    {
     "name": "stderr",
     "output_type": "stream",
     "text": [
      " 74%|███████▍  | 37/50 [41:47<14:43, 67.96s/it]"
     ]
    },
    {
     "name": "stdout",
     "output_type": "stream",
     "text": [
      "Epoch: 36 | Train_loss: 0.0645, Train_acc: 0.9750 | Test_loss: 0.0485, Test_acc: 0.9831\n"
     ]
    },
    {
     "name": "stderr",
     "output_type": "stream",
     "text": [
      " 76%|███████▌  | 38/50 [42:55<13:35, 67.98s/it]"
     ]
    },
    {
     "name": "stdout",
     "output_type": "stream",
     "text": [
      "Epoch: 37 | Train_loss: 0.0655, Train_acc: 0.9770 | Test_loss: 0.0427, Test_acc: 0.9825\n"
     ]
    },
    {
     "name": "stderr",
     "output_type": "stream",
     "text": [
      " 78%|███████▊  | 39/50 [44:02<12:26, 67.90s/it]"
     ]
    },
    {
     "name": "stdout",
     "output_type": "stream",
     "text": [
      "Epoch: 38 | Train_loss: 0.0631, Train_acc: 0.9755 | Test_loss: 0.0468, Test_acc: 0.9800\n"
     ]
    },
    {
     "name": "stderr",
     "output_type": "stream",
     "text": [
      " 80%|████████  | 40/50 [45:10<11:17, 67.74s/it]"
     ]
    },
    {
     "name": "stdout",
     "output_type": "stream",
     "text": [
      "Epoch: 39 | Train_loss: 0.0620, Train_acc: 0.9755 | Test_loss: 0.0545, Test_acc: 0.9775\n"
     ]
    },
    {
     "name": "stderr",
     "output_type": "stream",
     "text": [
      " 82%|████████▏ | 41/50 [46:17<10:08, 67.58s/it]"
     ]
    },
    {
     "name": "stdout",
     "output_type": "stream",
     "text": [
      "Epoch: 40 | Train_loss: 0.0716, Train_acc: 0.9715 | Test_loss: 0.0525, Test_acc: 0.9762\n"
     ]
    },
    {
     "name": "stderr",
     "output_type": "stream",
     "text": [
      " 84%|████████▍ | 42/50 [47:25<09:01, 67.68s/it]"
     ]
    },
    {
     "name": "stdout",
     "output_type": "stream",
     "text": [
      "Epoch: 41 | Train_loss: 0.0630, Train_acc: 0.9760 | Test_loss: 0.0475, Test_acc: 0.9819\n"
     ]
    },
    {
     "name": "stderr",
     "output_type": "stream",
     "text": [
      " 86%|████████▌ | 43/50 [48:33<07:53, 67.69s/it]"
     ]
    },
    {
     "name": "stdout",
     "output_type": "stream",
     "text": [
      "Epoch: 42 | Train_loss: 0.0541, Train_acc: 0.9780 | Test_loss: 0.0461, Test_acc: 0.9812\n"
     ]
    },
    {
     "name": "stderr",
     "output_type": "stream",
     "text": [
      " 88%|████████▊ | 44/50 [49:40<06:45, 67.54s/it]"
     ]
    },
    {
     "name": "stdout",
     "output_type": "stream",
     "text": [
      "Epoch: 43 | Train_loss: 0.0640, Train_acc: 0.9750 | Test_loss: 0.0546, Test_acc: 0.9794\n"
     ]
    },
    {
     "name": "stderr",
     "output_type": "stream",
     "text": [
      " 90%|█████████ | 45/50 [50:48<05:38, 67.65s/it]"
     ]
    },
    {
     "name": "stdout",
     "output_type": "stream",
     "text": [
      "Epoch: 44 | Train_loss: 0.0540, Train_acc: 0.9800 | Test_loss: 0.0485, Test_acc: 0.9806\n"
     ]
    },
    {
     "name": "stderr",
     "output_type": "stream",
     "text": [
      " 92%|█████████▏| 46/50 [51:56<04:31, 67.81s/it]"
     ]
    },
    {
     "name": "stdout",
     "output_type": "stream",
     "text": [
      "Epoch: 45 | Train_loss: 0.0556, Train_acc: 0.9785 | Test_loss: 0.0457, Test_acc: 0.9831\n"
     ]
    },
    {
     "name": "stderr",
     "output_type": "stream",
     "text": [
      " 94%|█████████▍| 47/50 [53:03<03:23, 67.70s/it]"
     ]
    },
    {
     "name": "stdout",
     "output_type": "stream",
     "text": [
      "Epoch: 46 | Train_loss: 0.0649, Train_acc: 0.9770 | Test_loss: 0.0499, Test_acc: 0.9819\n"
     ]
    },
    {
     "name": "stderr",
     "output_type": "stream",
     "text": [
      " 96%|█████████▌| 48/50 [54:11<02:15, 67.69s/it]"
     ]
    },
    {
     "name": "stdout",
     "output_type": "stream",
     "text": [
      "Epoch: 47 | Train_loss: 0.0612, Train_acc: 0.9780 | Test_loss: 0.0487, Test_acc: 0.9812\n"
     ]
    },
    {
     "name": "stderr",
     "output_type": "stream",
     "text": [
      " 98%|█████████▊| 49/50 [55:19<01:07, 67.71s/it]"
     ]
    },
    {
     "name": "stdout",
     "output_type": "stream",
     "text": [
      "Epoch: 48 | Train_loss: 0.0547, Train_acc: 0.9760 | Test_loss: 0.0516, Test_acc: 0.9812\n"
     ]
    },
    {
     "name": "stderr",
     "output_type": "stream",
     "text": [
      "100%|██████████| 50/50 [56:26<00:00, 67.74s/it]\n"
     ]
    },
    {
     "name": "stdout",
     "output_type": "stream",
     "text": [
      "Epoch: 49 | Train_loss: 0.0613, Train_acc: 0.9700 | Test_loss: 0.0450, Test_acc: 0.9794\n",
      "[INFO] Creating SummaryWriter saving to ../runs\\2023-04-04\\ResNet152_covid-xray_2000_test\\ResNet152_covid-xray_2000\\LR_1e-06_WD_0.0001_EP_50_BS_16_GA_1\n"
     ]
    },
    {
     "name": "stderr",
     "output_type": "stream",
     "text": [
      "  2%|▏         | 1/50 [01:07<55:05, 67.47s/it]"
     ]
    },
    {
     "name": "stdout",
     "output_type": "stream",
     "text": [
      "Epoch: 0 | Train_loss: 0.0576, Train_acc: 0.9785 | Test_loss: 0.0306, Test_acc: 0.9919\n"
     ]
    },
    {
     "name": "stderr",
     "output_type": "stream",
     "text": [
      "  4%|▍         | 2/50 [02:15<54:08, 67.68s/it]"
     ]
    },
    {
     "name": "stdout",
     "output_type": "stream",
     "text": [
      "Epoch: 1 | Train_loss: 0.0577, Train_acc: 0.9775 | Test_loss: 0.0393, Test_acc: 0.9844\n"
     ]
    },
    {
     "name": "stderr",
     "output_type": "stream",
     "text": [
      "  6%|▌         | 3/50 [03:22<52:58, 67.63s/it]"
     ]
    },
    {
     "name": "stdout",
     "output_type": "stream",
     "text": [
      "Epoch: 2 | Train_loss: 0.0495, Train_acc: 0.9845 | Test_loss: 0.0443, Test_acc: 0.9850\n"
     ]
    },
    {
     "name": "stderr",
     "output_type": "stream",
     "text": [
      "  8%|▊         | 4/50 [04:30<51:55, 67.73s/it]"
     ]
    },
    {
     "name": "stdout",
     "output_type": "stream",
     "text": [
      "Epoch: 3 | Train_loss: 0.0617, Train_acc: 0.9730 | Test_loss: 0.0383, Test_acc: 0.9825\n"
     ]
    },
    {
     "name": "stderr",
     "output_type": "stream",
     "text": [
      " 10%|█         | 5/50 [05:38<50:50, 67.80s/it]"
     ]
    },
    {
     "name": "stdout",
     "output_type": "stream",
     "text": [
      "Epoch: 4 | Train_loss: 0.0497, Train_acc: 0.9795 | Test_loss: 0.0360, Test_acc: 0.9881\n"
     ]
    },
    {
     "name": "stderr",
     "output_type": "stream",
     "text": [
      " 12%|█▏        | 6/50 [06:46<49:40, 67.74s/it]"
     ]
    },
    {
     "name": "stdout",
     "output_type": "stream",
     "text": [
      "Epoch: 5 | Train_loss: 0.0603, Train_acc: 0.9760 | Test_loss: 0.0448, Test_acc: 0.9831\n"
     ]
    },
    {
     "name": "stderr",
     "output_type": "stream",
     "text": [
      " 14%|█▍        | 7/50 [07:53<48:30, 67.70s/it]"
     ]
    },
    {
     "name": "stdout",
     "output_type": "stream",
     "text": [
      "Epoch: 6 | Train_loss: 0.0595, Train_acc: 0.9770 | Test_loss: 0.0494, Test_acc: 0.9794\n"
     ]
    },
    {
     "name": "stderr",
     "output_type": "stream",
     "text": [
      " 16%|█▌        | 8/50 [09:01<47:24, 67.72s/it]"
     ]
    },
    {
     "name": "stdout",
     "output_type": "stream",
     "text": [
      "Epoch: 7 | Train_loss: 0.0655, Train_acc: 0.9715 | Test_loss: 0.0491, Test_acc: 0.9775\n"
     ]
    },
    {
     "name": "stderr",
     "output_type": "stream",
     "text": [
      " 18%|█▊        | 9/50 [10:08<46:09, 67.56s/it]"
     ]
    },
    {
     "name": "stdout",
     "output_type": "stream",
     "text": [
      "Epoch: 8 | Train_loss: 0.0642, Train_acc: 0.9770 | Test_loss: 0.0479, Test_acc: 0.9837\n"
     ]
    },
    {
     "name": "stderr",
     "output_type": "stream",
     "text": [
      " 20%|██        | 10/50 [11:17<45:11, 67.79s/it]"
     ]
    },
    {
     "name": "stdout",
     "output_type": "stream",
     "text": [
      "Epoch: 9 | Train_loss: 0.0662, Train_acc: 0.9715 | Test_loss: 0.0443, Test_acc: 0.9800\n"
     ]
    },
    {
     "name": "stderr",
     "output_type": "stream",
     "text": [
      " 22%|██▏       | 11/50 [12:25<44:10, 67.97s/it]"
     ]
    },
    {
     "name": "stdout",
     "output_type": "stream",
     "text": [
      "Epoch: 10 | Train_loss: 0.0658, Train_acc: 0.9755 | Test_loss: 0.0417, Test_acc: 0.9869\n"
     ]
    },
    {
     "name": "stderr",
     "output_type": "stream",
     "text": [
      " 24%|██▍       | 12/50 [13:33<43:01, 67.92s/it]"
     ]
    },
    {
     "name": "stdout",
     "output_type": "stream",
     "text": [
      "Epoch: 11 | Train_loss: 0.0577, Train_acc: 0.9785 | Test_loss: 0.0424, Test_acc: 0.9844\n"
     ]
    },
    {
     "name": "stderr",
     "output_type": "stream",
     "text": [
      " 26%|██▌       | 13/50 [14:40<41:47, 67.78s/it]"
     ]
    },
    {
     "name": "stdout",
     "output_type": "stream",
     "text": [
      "Epoch: 12 | Train_loss: 0.0534, Train_acc: 0.9765 | Test_loss: 0.0456, Test_acc: 0.9806\n"
     ]
    },
    {
     "name": "stderr",
     "output_type": "stream",
     "text": [
      " 28%|██▊       | 14/50 [15:48<40:39, 67.77s/it]"
     ]
    },
    {
     "name": "stdout",
     "output_type": "stream",
     "text": [
      "Epoch: 13 | Train_loss: 0.0563, Train_acc: 0.9790 | Test_loss: 0.0429, Test_acc: 0.9862\n"
     ]
    },
    {
     "name": "stderr",
     "output_type": "stream",
     "text": [
      " 30%|███       | 15/50 [16:56<39:35, 67.89s/it]"
     ]
    },
    {
     "name": "stdout",
     "output_type": "stream",
     "text": [
      "Epoch: 14 | Train_loss: 0.0534, Train_acc: 0.9790 | Test_loss: 0.0415, Test_acc: 0.9812\n"
     ]
    },
    {
     "name": "stderr",
     "output_type": "stream",
     "text": [
      " 32%|███▏      | 16/50 [18:04<38:25, 67.81s/it]"
     ]
    },
    {
     "name": "stdout",
     "output_type": "stream",
     "text": [
      "Epoch: 15 | Train_loss: 0.0603, Train_acc: 0.9740 | Test_loss: 0.0548, Test_acc: 0.9787\n"
     ]
    },
    {
     "name": "stderr",
     "output_type": "stream",
     "text": [
      " 34%|███▍      | 17/50 [19:11<37:15, 67.73s/it]"
     ]
    },
    {
     "name": "stdout",
     "output_type": "stream",
     "text": [
      "Epoch: 16 | Train_loss: 0.0526, Train_acc: 0.9765 | Test_loss: 0.0438, Test_acc: 0.9831\n"
     ]
    },
    {
     "name": "stderr",
     "output_type": "stream",
     "text": [
      " 36%|███▌      | 18/50 [20:20<36:14, 67.95s/it]"
     ]
    },
    {
     "name": "stdout",
     "output_type": "stream",
     "text": [
      "Epoch: 17 | Train_loss: 0.0589, Train_acc: 0.9775 | Test_loss: 0.0466, Test_acc: 0.9812\n"
     ]
    },
    {
     "name": "stderr",
     "output_type": "stream",
     "text": [
      " 38%|███▊      | 19/50 [21:29<35:16, 68.27s/it]"
     ]
    },
    {
     "name": "stdout",
     "output_type": "stream",
     "text": [
      "Epoch: 18 | Train_loss: 0.0494, Train_acc: 0.9785 | Test_loss: 0.0441, Test_acc: 0.9844\n"
     ]
    },
    {
     "name": "stderr",
     "output_type": "stream",
     "text": [
      " 40%|████      | 20/50 [22:37<34:08, 68.28s/it]"
     ]
    },
    {
     "name": "stdout",
     "output_type": "stream",
     "text": [
      "Epoch: 19 | Train_loss: 0.0586, Train_acc: 0.9760 | Test_loss: 0.0441, Test_acc: 0.9831\n"
     ]
    },
    {
     "name": "stderr",
     "output_type": "stream",
     "text": [
      " 42%|████▏     | 21/50 [23:45<32:58, 68.21s/it]"
     ]
    },
    {
     "name": "stdout",
     "output_type": "stream",
     "text": [
      "Epoch: 20 | Train_loss: 0.0520, Train_acc: 0.9815 | Test_loss: 0.0415, Test_acc: 0.9825\n"
     ]
    },
    {
     "name": "stderr",
     "output_type": "stream",
     "text": [
      " 44%|████▍     | 22/50 [24:53<31:45, 68.07s/it]"
     ]
    },
    {
     "name": "stdout",
     "output_type": "stream",
     "text": [
      "Epoch: 21 | Train_loss: 0.0603, Train_acc: 0.9785 | Test_loss: 0.0401, Test_acc: 0.9850\n"
     ]
    },
    {
     "name": "stderr",
     "output_type": "stream",
     "text": [
      " 46%|████▌     | 23/50 [26:01<30:37, 68.06s/it]"
     ]
    },
    {
     "name": "stdout",
     "output_type": "stream",
     "text": [
      "Epoch: 22 | Train_loss: 0.0597, Train_acc: 0.9770 | Test_loss: 0.0468, Test_acc: 0.9800\n"
     ]
    },
    {
     "name": "stderr",
     "output_type": "stream",
     "text": [
      " 48%|████▊     | 24/50 [27:09<29:27, 67.96s/it]"
     ]
    },
    {
     "name": "stdout",
     "output_type": "stream",
     "text": [
      "Epoch: 23 | Train_loss: 0.0500, Train_acc: 0.9760 | Test_loss: 0.0436, Test_acc: 0.9831\n"
     ]
    },
    {
     "name": "stderr",
     "output_type": "stream",
     "text": [
      " 50%|█████     | 25/50 [28:17<28:19, 67.99s/it]"
     ]
    },
    {
     "name": "stdout",
     "output_type": "stream",
     "text": [
      "Epoch: 24 | Train_loss: 0.0394, Train_acc: 0.9860 | Test_loss: 0.0348, Test_acc: 0.9862\n"
     ]
    },
    {
     "name": "stderr",
     "output_type": "stream",
     "text": [
      " 52%|█████▏    | 26/50 [29:25<27:10, 67.93s/it]"
     ]
    },
    {
     "name": "stdout",
     "output_type": "stream",
     "text": [
      "Epoch: 25 | Train_loss: 0.0567, Train_acc: 0.9755 | Test_loss: 0.0550, Test_acc: 0.9756\n"
     ]
    },
    {
     "name": "stderr",
     "output_type": "stream",
     "text": [
      " 54%|█████▍    | 27/50 [30:32<26:00, 67.85s/it]"
     ]
    },
    {
     "name": "stdout",
     "output_type": "stream",
     "text": [
      "Epoch: 26 | Train_loss: 0.0602, Train_acc: 0.9760 | Test_loss: 0.0480, Test_acc: 0.9800\n"
     ]
    },
    {
     "name": "stderr",
     "output_type": "stream",
     "text": [
      " 56%|█████▌    | 28/50 [31:41<24:57, 68.08s/it]"
     ]
    },
    {
     "name": "stdout",
     "output_type": "stream",
     "text": [
      "Epoch: 27 | Train_loss: 0.0667, Train_acc: 0.9715 | Test_loss: 0.0448, Test_acc: 0.9856\n"
     ]
    },
    {
     "name": "stderr",
     "output_type": "stream",
     "text": [
      " 58%|█████▊    | 29/50 [32:49<23:47, 67.97s/it]"
     ]
    },
    {
     "name": "stdout",
     "output_type": "stream",
     "text": [
      "Epoch: 28 | Train_loss: 0.0559, Train_acc: 0.9780 | Test_loss: 0.0417, Test_acc: 0.9862\n"
     ]
    },
    {
     "name": "stderr",
     "output_type": "stream",
     "text": [
      " 60%|██████    | 30/50 [33:56<22:36, 67.82s/it]"
     ]
    },
    {
     "name": "stdout",
     "output_type": "stream",
     "text": [
      "Epoch: 29 | Train_loss: 0.0628, Train_acc: 0.9750 | Test_loss: 0.0472, Test_acc: 0.9806\n"
     ]
    },
    {
     "name": "stderr",
     "output_type": "stream",
     "text": [
      " 62%|██████▏   | 31/50 [35:04<21:27, 67.78s/it]"
     ]
    },
    {
     "name": "stdout",
     "output_type": "stream",
     "text": [
      "Epoch: 30 | Train_loss: 0.0679, Train_acc: 0.9715 | Test_loss: 0.0426, Test_acc: 0.9837\n"
     ]
    },
    {
     "name": "stderr",
     "output_type": "stream",
     "text": [
      " 64%|██████▍   | 32/50 [36:12<20:22, 67.92s/it]"
     ]
    },
    {
     "name": "stdout",
     "output_type": "stream",
     "text": [
      "Epoch: 31 | Train_loss: 0.0483, Train_acc: 0.9825 | Test_loss: 0.0439, Test_acc: 0.9850\n"
     ]
    },
    {
     "name": "stderr",
     "output_type": "stream",
     "text": [
      " 66%|██████▌   | 33/50 [37:20<19:14, 67.92s/it]"
     ]
    },
    {
     "name": "stdout",
     "output_type": "stream",
     "text": [
      "Epoch: 32 | Train_loss: 0.0572, Train_acc: 0.9765 | Test_loss: 0.0438, Test_acc: 0.9812\n"
     ]
    },
    {
     "name": "stderr",
     "output_type": "stream",
     "text": [
      " 68%|██████▊   | 34/50 [38:28<18:07, 67.96s/it]"
     ]
    },
    {
     "name": "stdout",
     "output_type": "stream",
     "text": [
      "Epoch: 33 | Train_loss: 0.0524, Train_acc: 0.9795 | Test_loss: 0.0352, Test_acc: 0.9862\n"
     ]
    },
    {
     "name": "stderr",
     "output_type": "stream",
     "text": [
      " 70%|███████   | 35/50 [39:36<17:00, 68.04s/it]"
     ]
    },
    {
     "name": "stdout",
     "output_type": "stream",
     "text": [
      "Epoch: 34 | Train_loss: 0.0466, Train_acc: 0.9810 | Test_loss: 0.0365, Test_acc: 0.9887\n"
     ]
    },
    {
     "name": "stderr",
     "output_type": "stream",
     "text": [
      " 72%|███████▏  | 36/50 [40:44<15:50, 67.91s/it]"
     ]
    },
    {
     "name": "stdout",
     "output_type": "stream",
     "text": [
      "Epoch: 35 | Train_loss: 0.0621, Train_acc: 0.9745 | Test_loss: 0.0423, Test_acc: 0.9825\n"
     ]
    },
    {
     "name": "stderr",
     "output_type": "stream",
     "text": [
      " 74%|███████▍  | 37/50 [41:52<14:43, 67.94s/it]"
     ]
    },
    {
     "name": "stdout",
     "output_type": "stream",
     "text": [
      "Epoch: 36 | Train_loss: 0.0566, Train_acc: 0.9775 | Test_loss: 0.0372, Test_acc: 0.9887\n"
     ]
    },
    {
     "name": "stderr",
     "output_type": "stream",
     "text": [
      " 76%|███████▌  | 38/50 [43:00<13:35, 67.98s/it]"
     ]
    },
    {
     "name": "stdout",
     "output_type": "stream",
     "text": [
      "Epoch: 37 | Train_loss: 0.0568, Train_acc: 0.9745 | Test_loss: 0.0380, Test_acc: 0.9856\n"
     ]
    },
    {
     "name": "stderr",
     "output_type": "stream",
     "text": [
      " 78%|███████▊  | 39/50 [44:07<12:26, 67.84s/it]"
     ]
    },
    {
     "name": "stdout",
     "output_type": "stream",
     "text": [
      "Epoch: 38 | Train_loss: 0.0535, Train_acc: 0.9790 | Test_loss: 0.0402, Test_acc: 0.9831\n"
     ]
    },
    {
     "name": "stderr",
     "output_type": "stream",
     "text": [
      " 80%|████████  | 40/50 [45:15<11:17, 67.71s/it]"
     ]
    },
    {
     "name": "stdout",
     "output_type": "stream",
     "text": [
      "Epoch: 39 | Train_loss: 0.0524, Train_acc: 0.9775 | Test_loss: 0.0520, Test_acc: 0.9794\n"
     ]
    },
    {
     "name": "stderr",
     "output_type": "stream",
     "text": [
      " 82%|████████▏ | 41/50 [46:23<10:09, 67.77s/it]"
     ]
    },
    {
     "name": "stdout",
     "output_type": "stream",
     "text": [
      "Epoch: 40 | Train_loss: 0.0475, Train_acc: 0.9795 | Test_loss: 0.0458, Test_acc: 0.9819\n"
     ]
    },
    {
     "name": "stderr",
     "output_type": "stream",
     "text": [
      " 84%|████████▍ | 42/50 [47:30<09:01, 67.68s/it]"
     ]
    },
    {
     "name": "stdout",
     "output_type": "stream",
     "text": [
      "Epoch: 41 | Train_loss: 0.0418, Train_acc: 0.9850 | Test_loss: 0.0434, Test_acc: 0.9831\n"
     ]
    },
    {
     "name": "stderr",
     "output_type": "stream",
     "text": [
      " 86%|████████▌ | 43/50 [48:37<07:52, 67.55s/it]"
     ]
    },
    {
     "name": "stdout",
     "output_type": "stream",
     "text": [
      "Epoch: 42 | Train_loss: 0.0645, Train_acc: 0.9750 | Test_loss: 0.0413, Test_acc: 0.9837\n"
     ]
    },
    {
     "name": "stderr",
     "output_type": "stream",
     "text": [
      " 88%|████████▊ | 44/50 [49:45<06:45, 67.62s/it]"
     ]
    },
    {
     "name": "stdout",
     "output_type": "stream",
     "text": [
      "Epoch: 43 | Train_loss: 0.0624, Train_acc: 0.9765 | Test_loss: 0.0404, Test_acc: 0.9825\n"
     ]
    },
    {
     "name": "stderr",
     "output_type": "stream",
     "text": [
      " 90%|█████████ | 45/50 [50:53<05:37, 67.57s/it]"
     ]
    },
    {
     "name": "stdout",
     "output_type": "stream",
     "text": [
      "Epoch: 44 | Train_loss: 0.0615, Train_acc: 0.9760 | Test_loss: 0.0443, Test_acc: 0.9831\n"
     ]
    },
    {
     "name": "stderr",
     "output_type": "stream",
     "text": [
      " 92%|█████████▏| 46/50 [52:01<04:30, 67.71s/it]"
     ]
    },
    {
     "name": "stdout",
     "output_type": "stream",
     "text": [
      "Epoch: 45 | Train_loss: 0.0536, Train_acc: 0.9800 | Test_loss: 0.0282, Test_acc: 0.9887\n"
     ]
    },
    {
     "name": "stderr",
     "output_type": "stream",
     "text": [
      " 94%|█████████▍| 47/50 [53:08<03:22, 67.58s/it]"
     ]
    },
    {
     "name": "stdout",
     "output_type": "stream",
     "text": [
      "Epoch: 46 | Train_loss: 0.0559, Train_acc: 0.9795 | Test_loss: 0.0388, Test_acc: 0.9850\n"
     ]
    },
    {
     "name": "stderr",
     "output_type": "stream",
     "text": [
      " 96%|█████████▌| 48/50 [54:16<02:15, 67.69s/it]"
     ]
    },
    {
     "name": "stdout",
     "output_type": "stream",
     "text": [
      "Epoch: 47 | Train_loss: 0.0620, Train_acc: 0.9760 | Test_loss: 0.0457, Test_acc: 0.9825\n"
     ]
    },
    {
     "name": "stderr",
     "output_type": "stream",
     "text": [
      " 98%|█████████▊| 49/50 [55:23<01:07, 67.62s/it]"
     ]
    },
    {
     "name": "stdout",
     "output_type": "stream",
     "text": [
      "Epoch: 48 | Train_loss: 0.0431, Train_acc: 0.9835 | Test_loss: 0.0430, Test_acc: 0.9812\n"
     ]
    },
    {
     "name": "stderr",
     "output_type": "stream",
     "text": [
      "100%|██████████| 50/50 [56:31<00:00, 67.82s/it]"
     ]
    },
    {
     "name": "stdout",
     "output_type": "stream",
     "text": [
      "Epoch: 49 | Train_loss: 0.0412, Train_acc: 0.9880 | Test_loss: 0.0340, Test_acc: 0.9881\n"
     ]
    },
    {
     "name": "stderr",
     "output_type": "stream",
     "text": [
      "\n"
     ]
    }
   ],
   "source": [
    "def model_generator(weights=None):\n",
    "    weights = torchvision.models.ResNet152_Weights.DEFAULT\n",
    "    model = torchvision.models.resnet152(weights=weights)\n",
    "    model.fc = nn.Linear(\n",
    "        in_features=2048,\n",
    "        out_features=len(class_names),\n",
    "        bias=True\n",
    "    )\n",
    "    return model\n",
    "\n",
    "model = model_generator()\n",
    "\n",
    "tuning_results = engine.HP_tune_train(\n",
    "    model=model,\n",
    "    model_generator=None,\n",
    "    model_weights=None,\n",
    "    model_name='ResNet152_covid-xray_2000',\n",
    "    train_dataset=train_dataset,\n",
    "    test_dataset=valid_dataset,\n",
    "    learning_rate_list=learning_rate_list,\n",
    "    weight_decay_list=weight_decay_list,\n",
    "    epochs_list=epochs_list,\n",
    "    batch_size_list=batch_size_list,\n",
    "    is_tensorboard_writer=True,\n",
    "    device=device,\n",
    "    gradient_accumulation_num=1\n",
    ")"
   ]
  },
  {
   "cell_type": "code",
   "execution_count": 11,
   "metadata": {},
   "outputs": [
    {
     "name": "stdout",
     "output_type": "stream",
     "text": [
      "   learning_rate  weight_decay  epochs  batch_size   train_loss    test_loss  \\\n",
      "0       0.000100        0.0001      50          16   0.14178865   0.10487087   \n",
      "1       0.000010        0.0001      50          16  0.061279908  0.045043487   \n",
      "2       0.000001        0.0001      50          16  0.041209783  0.034047224   \n",
      "\n",
      "  train_acc  test_acc  \n",
      "0     0.945    0.9575  \n",
      "1      0.97  0.979375  \n",
      "2     0.988  0.988125  \n"
     ]
    }
   ],
   "source": [
    "print(pd.DataFrame(tuning_results))"
   ]
  },
  {
   "cell_type": "code",
   "execution_count": 12,
   "metadata": {},
   "outputs": [],
   "source": [
    "torch.save(model.state_dict(), '../models/corona-xray/230404_ResNet152_2000.pth')"
   ]
  },
  {
   "cell_type": "code",
   "execution_count": 16,
   "metadata": {},
   "outputs": [],
   "source": [
    "test_path = Path('../data/COVID_19_XRAY/test')\n",
    "\n",
    "for dirpath, dirnames, filenames in os.walk(test_path):\n",
    "  if dirpath == str(test_path / 'test'):\n",
    "    image_names = filenames\n",
    "\n",
    "image_names.sort(key=lambda x: (len(x), x))"
   ]
  },
  {
   "cell_type": "code",
   "execution_count": 17,
   "metadata": {},
   "outputs": [],
   "source": [
    "test_dataset = datasets.ImageFolder(\n",
    "    test_path,\n",
    "    transform=transforms.Compose([\n",
    "        transforms.Resize(224),\n",
    "        transforms.ToTensor(),\n",
    "        transforms.Normalize(\n",
    "        [0.485, 0.456, 0.406],\n",
    "        [0.229, 0.224, 0.225]\n",
    "        )\n",
    "    ])\n",
    ")"
   ]
  },
  {
   "cell_type": "code",
   "execution_count": 18,
   "metadata": {},
   "outputs": [
    {
     "name": "stdout",
     "output_type": "stream",
     "text": [
      "Submission saved!\n"
     ]
    }
   ],
   "source": [
    "test_pred = []\n",
    "\n",
    "model.eval()\n",
    "with torch.inference_mode():\n",
    "  for i in range(400):\n",
    "      test_pred.append(class_names[torch.argmax(model(test_dataset[i][0].unsqueeze(0).to(device)))])\n",
    "\n",
    "output = pd.DataFrame({'filename': image_names, 'label': test_pred})\n",
    "output.to_csv('submission.csv', index=False)\n",
    "print('Submission saved!')"
   ]
  },
  {
   "cell_type": "code",
   "execution_count": null,
   "metadata": {},
   "outputs": [],
   "source": []
  }
 ],
 "metadata": {
  "kernelspec": {
   "display_name": "torch-gpu",
   "language": "python",
   "name": "python3"
  },
  "language_info": {
   "codemirror_mode": {
    "name": "ipython",
    "version": 3
   },
   "file_extension": ".py",
   "mimetype": "text/x-python",
   "name": "python",
   "nbconvert_exporter": "python",
   "pygments_lexer": "ipython3",
   "version": "3.8.16"
  },
  "orig_nbformat": 4,
  "vscode": {
   "interpreter": {
    "hash": "042224aedd6dce0042a36a8655d64ef4ed0b157734a2cd7f706ac071e8f8b810"
   }
  }
 },
 "nbformat": 4,
 "nbformat_minor": 2
}
